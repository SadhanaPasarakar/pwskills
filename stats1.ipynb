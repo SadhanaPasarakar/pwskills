{
  "nbformat": 4,
  "nbformat_minor": 0,
  "metadata": {
    "colab": {
      "provenance": []
    },
    "kernelspec": {
      "name": "python3",
      "display_name": "Python 3"
    },
    "language_info": {
      "name": "python"
    }
  },
  "cells": [
    {
      "cell_type": "code",
      "execution_count": null,
      "metadata": {
        "id": "QGQ7OXLVp58_"
      },
      "outputs": [],
      "source": []
    },
    {
      "cell_type": "markdown",
      "source": [],
      "metadata": {
        "id": "h2z1k4iup9_I"
      }
    },
    {
      "cell_type": "markdown",
      "source": [
        "Question 1: What is a random variable in probability theory?\n",
        "Answer:\n",
        "A random variable is a variable that takes on numerical values determined by the outcome of a random experiment. It assigns numerical values to each possible outcome of a probability event. Random variables are fundamental in probability theory as they allow us to quantify uncertainty and model real-world random processes.\n",
        "________________________________________\n",
        "Question 2: What are the types of random variables?\n",
        "Answer:\n",
        "Random variables are of two main types:\n",
        "1.\tDiscrete Random Variable – Takes on a finite or countable number of values (e.g., number of heads in 10 coin tosses).\n",
        "2.\tContinuous Random Variable – Takes on an infinite and uncountable number of possible values within a given range (e.g., height, weight, or temperature).\n",
        "________________________________________\n",
        "Question 3: Explain the difference between discrete and continuous distributions.\n",
        "Answer:\n",
        "•\tDiscrete Distribution: Represents probabilities of discrete random variables. Values are countable and distinct. Examples include the Binomial distribution and Poisson distribution.\n",
        "•\tContinuous Distribution: Represents probabilities of continuous random variables. Values lie on a continuum and probabilities are described using probability density functions. Examples include Normal distribution and Exponential distribution.\n",
        "________________________________________\n",
        "Question 4: What is a binomial distribution, and how is it used in probability?\n",
        "Answer:\n",
        "The binomial distribution models the number of successes in a fixed number of independent Bernoulli trials, where each trial has only two possible outcomes (success/failure) and the probability of success remains constant.\n",
        "It is used in situations like:\n",
        "•\tDetermining the probability of getting exactly 5 heads in 10 coin flips.\n",
        "•\tQuality control (probability of defective products).\n",
        "________________________________________\n",
        "Question 5: What is the standard normal distribution, and why is it important?\n",
        "Answer:\n",
        "The standard normal distribution is a special case of the normal distribution with mean = 0 and standard deviation = 1. It is important because:\n",
        "•\tIt serves as the basis for many statistical methods.\n",
        "•\tIt allows us to calculate probabilities using Z-scores.\n",
        "•\tIt simplifies hypothesis testing and confidence interval estimation.\n",
        "________________________________________\n",
        "Question 6: What is the Central Limit Theorem (CLT), and why is it critical in statistics?\n",
        "Answer:\n",
        "The Central Limit Theorem (CLT) states that the distribution of the sample mean approaches a normal distribution as the sample size increases, regardless of the shape of the population distribution (provided the population has finite variance).\n",
        "It is critical because:\n",
        "•\tIt enables us to apply normal probability theory to sample means.\n",
        "•\tIt forms the foundation for confidence intervals and hypothesis testing.\n",
        "________________________________________\n",
        "Question 7: What is the significance of confidence intervals in statistical analysis?\n",
        "Answer:\n",
        "A confidence interval provides a range of values within which the true population parameter (such as mean or proportion) is expected to lie, with a certain level of confidence (e.g., 95%).\n",
        "Significance:\n",
        "•\tMeasures the precision of an estimate.\n",
        "•\tProvides a degree of uncertainty around the sample statistic.\n",
        "•\tHelps in decision-making by quantifying reliability of results.\n",
        "________________________________________\n",
        "Question 8: What is the concept of expected value in a probability distribution?\n",
        "Answer:\n",
        "The expected value of a random variable is the long-run average value it takes over many repetitions of an experiment. It is calculated as:\n",
        "•\tFor discrete variables: E(X)=∑[x⋅P(x)]E(X) = \\sum [x \\cdot P(x)]\n",
        "•\tFor continuous variables: E(X)=∫xf(x)dxE(X) = \\int x f(x) dx\n",
        "It represents the \"center of gravity\" of the probability distribution.\n"
      ],
      "metadata": {
        "id": "WRmI9K0fqw9m"
      }
    },
    {
      "cell_type": "code",
      "source": [
        "# Question 9: Write a Python program to generate 1000 random numbers from a normal distribution with mean = 50 and standard deviation = 5. Compute its mean and standard deviation using NumPy, and draw a histogram to visualize the distribution.\n",
        "\n",
        "import numpy as np\n",
        "import matplotlib.pyplot as plt\n",
        "\n",
        "# Generate 1000 random numbers from normal distribution\n",
        "data = np.random.normal(loc=50, scale=5, size=1000)\n",
        "\n",
        "# Compute mean and standard deviation\n",
        "mean_val = np.mean(data)\n",
        "std_val = np.std(data)\n",
        "\n",
        "print(\"Mean:\", mean_val)\n",
        "print(\"Standard Deviation:\", std_val)\n",
        "\n",
        "# Draw histogram\n",
        "plt.hist(data, bins=30, edgecolor='black', alpha=0.7)\n",
        "plt.title(\"Histogram of Normal Distribution (Mean=50, SD=5)\")\n",
        "plt.xlabel(\"Value\")\n",
        "plt.ylabel(\"Frequency\")\n",
        "plt.show()\n"
      ],
      "metadata": {
        "colab": {
          "base_uri": "https://localhost:8080/",
          "height": 507
        },
        "id": "m6mVUaYXq0Ry",
        "outputId": "129295df-f529-4362-e614-b3c33628b9f6"
      },
      "execution_count": 1,
      "outputs": [
        {
          "output_type": "stream",
          "name": "stdout",
          "text": [
            "Mean: 49.83012843857304\n",
            "Standard Deviation: 4.894203568101989\n"
          ]
        },
        {
          "output_type": "display_data",
          "data": {
            "text/plain": [
              "<Figure size 640x480 with 1 Axes>"
            ],
            "image/png": "[encoded data removed]"
          },
          "metadata": {}
        }
      ]
    },
    {
      "cell_type": "code",
      "source": [
        "# Question 10: You are working as a data analyst for a retail company. The company has collected daily sales data for 2 years and wants you to identify the overall sales trend.\n",
        "\n",
        "daily_sales = [220, 245, 210, 265, 230, 250, 260, 275, 240, 255,\n",
        "               235, 260, 245, 250, 225, 270, 265, 255, 250, 260]\n",
        "\n",
        "import numpy as np\n",
        "import scipy.stats as stats\n",
        "\n",
        "daily_sales = [220, 245, 210, 265, 230, 250, 260, 275, 240, 255,\n",
        "               235, 260, 245, 250, 225, 270, 265, 255, 250, 260]\n",
        "\n",
        "# Calculate mean and standard error\n",
        "mean_sales = np.mean(daily_sales)\n",
        "std_err = stats.sem(daily_sales)\n",
        "\n",
        "# 95% confidence interval\n",
        "confidence = 0.95\n",
        "ci = stats.t.interval(confidence, len(daily_sales)-1, loc=mean_sales, scale=std_err)\n",
        "\n",
        "print(\"Mean Sales:\", mean_sales)\n",
        "print(\"95% Confidence Interval:\", ci)\n"
      ],
      "metadata": {
        "colab": {
          "base_uri": "https://localhost:8080/"
        },
        "id": "S9JNHj6crGfN",
        "outputId": "59166e4f-b287-4a52-d0cf-4b3151cf9a20"
      },
      "execution_count": 3,
      "outputs": [
        {
          "output_type": "stream",
          "name": "stdout",
          "text": [
            "Mean Sales: 248.25\n",
            "95% Confidence Interval: (np.float64(240.16957025147158), np.float64(256.3304297485284))\n"
          ]
        }
      ]
    }
  ]
}