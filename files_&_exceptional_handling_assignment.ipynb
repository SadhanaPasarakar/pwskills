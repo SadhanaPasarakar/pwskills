{
  "nbformat": 4,
  "nbformat_minor": 0,
  "metadata": {
    "colab": {
      "provenance": []
    },
    "kernelspec": {
      "name": "python3",
      "display_name": "Python 3"
    },
    "language_info": {
      "name": "python"
    }
  },
  "cells": [
    {
      "cell_type": "markdown",
      "source": [
        "Files, Exception Handling, Logging, and Memory Management Q&A\n",
        "\n",
        "Q1. What is the difference between interpreted and compiled languages?\n",
        "A:\n",
        "•\tCompiled languages are translated into machine code before execution (e.g., C, C++).\n",
        "•\tInterpreted languages are translated line-by-line during execution (e.g., Python).\n",
        "•\tPython is an interpreted language.\n",
        "\n",
        "Q2. What is exception handling in Python?\n",
        "A:\n",
        "Exception handling is a mechanism to catch and manage runtime errors using try, except, finally, and else blocks to prevent crashes.\n",
        "\n",
        "Q3. What is the purpose of the finally block in exception handling?\n",
        "A:\n",
        "The finally block is used to execute code no matter what—whether an exception occurred or not. It is typically used for cleanup actions like closing files.\n",
        "\n",
        "Q4. What is logging in Python?\n",
        "A:\n",
        "Logging is a built-in module in Python used to record messages (info, warnings, errors, etc.) during program execution, useful for debugging and monitoring.\n",
        "\n",
        "Q5. What is the significance of the __del__ method in Python?\n",
        "A:\n",
        "__del__ is a special method called when an object is about to be destroyed. It can be used to release resources, but it’s not always reliable due to garbage collection timing.\n",
        "\n",
        "Q6. What is the difference between import and from ... import in Python?\n",
        "A:\n",
        "•\timport module imports the entire module.\n",
        "•\tfrom module import function imports only specific parts.\n",
        "Example:\n",
        "import math        # use math.sqrt()\n",
        "from math import sqrt  # use sqrt()\n",
        "\n",
        "Q7. How can you handle multiple exceptions in Python?\n",
        "A:\n",
        "You can use multiple except blocks or tuple exception handling:\n",
        "try:\n",
        "    # code\n",
        "except (TypeError, ValueError) as e:\n",
        "    print(e)\n",
        "\n",
        "Q8. What is the purpose of the with statement when handling files in Python?\n",
        "A:\n",
        "with ensures the file is automatically closed, even if an error occurs. It's a context manager:\n",
        "with open('file.txt', 'r') as f:\n",
        "    data = f.read()\n",
        "\n",
        "Q9. What is the difference between multithreading and multiprocessing?\n",
        "A:\n",
        "•\tMultithreading: multiple threads within the same process (shares memory).\n",
        "•\tMultiprocessing: multiple processes (independent memory).\n",
        "•\tMultiprocessing is better for CPU-bound tasks; threading is better for I/O-bound tasks.\n",
        "\n",
        "Q10. What are the advantages of using logging in a program?\n",
        "A:\n",
        "•\tHelps in debugging\n",
        "•\tTracks application flow\n",
        "•\tRecords errors\n",
        "•\tCan store logs in files with rotation\n",
        "•\tUseful for auditing and monitoring\n",
        "\n",
        "Q11. What is memory management in Python?\n",
        "A:\n",
        "Python manages memory automatically using reference counting and garbage collection to free up unused memory.\n",
        "\n",
        "Q12. What are the basic steps involved in exception handling in Python?\n",
        "A:\n",
        "1.\tUse try to wrap the code\n",
        "2.\tUse except to catch and handle errors\n",
        "3.\tOptionally use else for code that runs if no error\n",
        "4.\tUse finally for cleanup\n",
        "\n",
        "Q13. Why is memory management important in Python?\n",
        "A:\n",
        "Proper memory management avoids:\n",
        "•\tMemory leaks\n",
        "•\tProgram crashes\n",
        "•\tSlow performance\n",
        "\n",
        "Q14. What is the role of try and except in exception handling?\n",
        "A:\n",
        "•\ttry: contains the code that might raise an exception\n",
        "•\texcept: defines how to handle specific exceptions if they occur\n",
        "\n",
        "Q15. How does Python's garbage collection system work?\n",
        "A:\n",
        "Python uses reference counting and a cyclic garbage collector to clean up memory from unreachable objects.\n",
        "\n",
        "Q16. What is the purpose of the else block in exception handling?\n",
        "A:\n",
        "The else block runs only if no exception occurs in the try block. It is used for normal logic when everything is fine.\n",
        "\n",
        "Q17. What are the common logging levels in Python?\n",
        "A:\n",
        "From lowest to highest:\n",
        "•\tDEBUG\n",
        "•\tINFO\n",
        "•\tWARNING\n",
        "•\tERROR\n",
        "•\tCRITICAL\n",
        "\n",
        "Q18. What is the difference between os.fork() and multiprocessing in Python?\n",
        "A:\n",
        "•\tos.fork() (Unix only) creates a new process by duplicating the current one.\n",
        "•\tmultiprocessing is cross-platform and provides a higher-level API to manage processes safely and portably.\n",
        "\n",
        "Q19. What is the importance of closing a file in Python?\n",
        "A:\n",
        "Closing a file:\n",
        "•\tReleases system resources\n",
        "•\tFlushes any buffered output\n",
        "•\tPrevents file corruption and memory leaks\n",
        "(Using with automatically closes the file.)\n",
        "\n",
        "Q20. What is the difference between file.read() and file.readline() in Python?\n",
        "A:\n",
        "•\tread() reads the entire file into one string.\n",
        "•\treadline() reads one line at a time.\n",
        "\n",
        "Q21. What is the logging module in Python used for?\n",
        "A:\n",
        "The logging module is used to track events, debug, and record errors in files or console during runtime.\n",
        "\n",
        "Q22. What is the os module in Python used for in file handling?\n",
        "A:\n",
        "The os module helps interact with the operating system:\n",
        "•\tFile/directory checking (os.path.exists())\n",
        "•\tCreating/removing directories\n",
        "•\tRenaming files, etc.\n",
        "\n",
        "Q23. What are the challenges associated with memory management in Python?\n",
        "A:\n",
        "•\tCircular references\n",
        "•\tDelayed garbage collection\n",
        "•\tMemory leaks in large/long-running applications\n",
        "•\tNot releasing external resources (files, sockets)\n",
        "\n",
        "Q24. How do you raise an exception manually in Python?\n",
        "A:\n",
        "Use the raise keyword:\n",
        "raise ValueError(\"Invalid input\")\n",
        "\n",
        "Q25. Why is it important to use multithreading in certain applications?\n",
        "A:\n",
        "Multithreading is useful for:\n",
        "•\tPerforming multiple I/O operations (like reading files, network calls) concurrently\n",
        "•\tImproving responsiveness in UI applications\n",
        "•\tEfficient use of CPU in non-CPU-bound tasks\n",
        "\n",
        "\n"
      ],
      "metadata": {
        "id": "jRS84vArh5rd"
      }
    },
    {
      "cell_type": "code",
      "execution_count": 11,
      "metadata": {
        "id": "IYZXwWxn6LRp"
      },
      "outputs": [],
      "source": [
        "# 1. How can you open a file for writing in Python and write a string to it\n",
        "\n",
        "with open(\"example.txt\", \"w\") as file:\n",
        "    file.write(\"Hello, world!, This is a string\\n can i read it \")\n",
        "\n",
        "\n",
        "\n"
      ]
    },
    {
      "cell_type": "code",
      "source": [
        "# 2. Write a Python program to read the contents of a file and print each line\n",
        "with open(\"example.txt\", \"w\") as file:\n",
        "    file.write(\"Hello, world!, This is a string\\n can i read it \")\n",
        "with open('example.txt','r') as f:\n",
        "  data = f.read()\n",
        "  print(data)\n"
      ],
      "metadata": {
        "colab": {
          "base_uri": "https://localhost:8080/"
        },
        "id": "--s7w4197YmF",
        "outputId": "5b9161b9-7854-4cdd-92b0-51ea7133e2e1"
      },
      "execution_count": 17,
      "outputs": [
        {
          "output_type": "stream",
          "name": "stdout",
          "text": [
            "Hello, world!, This is a string\n",
            " can i read it \n"
          ]
        }
      ]
    },
    {
      "cell_type": "code",
      "source": [
        "# 3.How would you handle a case where the file doesn't exist while trying to open it for reading\u001f\n",
        "\n",
        "try:\n",
        "    with open('nofile.txt', 'r') as file:\n",
        "      data =file.read()\n",
        "      print(data)\n",
        "except FileNotFoundError:\n",
        "  print('no such file found')\n",
        "except Exception as e:\n",
        "  print(e)\n",
        "\n",
        "\n"
      ],
      "metadata": {
        "colab": {
          "base_uri": "https://localhost:8080/"
        },
        "id": "haJLMGmd8G3k",
        "outputId": "f7421821-4ced-4d86-8e55-2e1b24f67af9"
      },
      "execution_count": 12,
      "outputs": [
        {
          "output_type": "stream",
          "name": "stdout",
          "text": [
            "no such file found\n"
          ]
        }
      ]
    },
    {
      "cell_type": "code",
      "source": [
        "# 4.Write a Python script that reads from one file and writes its content to another file\n",
        "with open(\"example.txt\", \"w\") as file:\n",
        "    file.write(\"Hello, world!, This is a string\\n can i read it \")\n",
        "\n",
        "with open('example.txt', 'r') as file:\n",
        "  data = file.read()\n",
        "with open('towrite.txt','w') as f:\n",
        "  file1 = f.write(data)\n",
        "  print('file copied')\n",
        "\n"
      ],
      "metadata": {
        "colab": {
          "base_uri": "https://localhost:8080/"
        },
        "id": "i1z04f9k9U6g",
        "outputId": "b3e83a93-8dbe-42aa-ec02-23afcda128cc"
      },
      "execution_count": 18,
      "outputs": [
        {
          "output_type": "stream",
          "name": "stdout",
          "text": [
            "file copied\n"
          ]
        }
      ]
    },
    {
      "cell_type": "code",
      "source": [
        "# 5 How would you catch and handle division by zero error in Python\u001f\n",
        "\n",
        "def division(a, b):\n",
        "    try:\n",
        "        result = a / b\n",
        "        print(\"Result:\", result)\n",
        "    except ZeroDivisionError:\n",
        "        print(\"Can not divide by zero\")\n",
        "\n",
        "division(10,5)\n",
        "division(4,0)"
      ],
      "metadata": {
        "colab": {
          "base_uri": "https://localhost:8080/"
        },
        "id": "_r0V326E-WN6",
        "outputId": "c1a5f746-ee8e-4a20-e544-2cae765bb152"
      },
      "execution_count": null,
      "outputs": [
        {
          "output_type": "stream",
          "name": "stdout",
          "text": [
            "Result: 2.0\n",
            "Can not divide by zero\n"
          ]
        }
      ]
    },
    {
      "cell_type": "code",
      "source": [
        "# 6. Write a Python program that logs an error message to a log file when a division by zero exception occursF\n",
        "\n",
        "\n",
        "import logging\n",
        "\n",
        "# Set up logging configuration\n",
        "logging.basicConfig(filename='error.log', level=logging.ERROR,\n",
        "                    format='%(asctime)s - %(levelname)s - %(message)s')\n",
        "\n",
        "def divide(a, b):\n",
        "    try:\n",
        "        result = a / b\n",
        "        print(\"Result:\", result)\n",
        "    except ZeroDivisionError:\n",
        "        logging.error(\"Attempted to divide by zero: a=%s, b=%s\", a, b)\n",
        "        print(\"Error occurred. Check 'error.log' for details.\")\n",
        "\n",
        "!cat error.log\n",
        "\n",
        "\n",
        "\n",
        "# Example usage\n",
        "divide(10, 2)\n",
        "divide(5, 0)"
      ],
      "metadata": {
        "colab": {
          "base_uri": "https://localhost:8080/"
        },
        "id": "ymgN2FuYEVac",
        "outputId": "b19fefd1-ef79-4b4b-9f63-408d126bc02a"
      },
      "execution_count": 8,
      "outputs": [
        {
          "output_type": "stream",
          "name": "stdout",
          "text": [
            "cat: error.log: No such file or directory\n"
          ]
        },
        {
          "output_type": "stream",
          "name": "stderr",
          "text": [
            "ERROR:root:Attempted to divide by zero: a=5, b=0\n"
          ]
        },
        {
          "output_type": "stream",
          "name": "stdout",
          "text": [
            "Result: 5.0\n",
            "Error occurred. Check 'error.log' for details.\n"
          ]
        }
      ]
    },
    {
      "cell_type": "code",
      "source": [
        "# 7. How do you log information at different levels (INFO, ERROR, WARNING) in Python using the logging module\n",
        "logging.basicConfig(\n",
        "    level=logging.DEBUG,  # Set the minimum logging level\n",
        "    format='%(asctime)s - %(levelname)s - %(message)s',\n",
        "    filename='app.log',  # Logs will be written to this file\n",
        "    filemode='w'          # Overwrites the file each time\n",
        ")\n",
        "\n",
        "# Logging messages at different levels\n",
        "logging.debug(\"This is a DEBUG message (for diagnosing problems).\")\n",
        "logging.info(\"This is an INFO message (general information).\")\n",
        "logging.warning(\"This is a WARNING message (something unexpected but not an error).\")\n",
        "logging.error(\"This is an ERROR message (a serious problem occurred).\")\n",
        "logging.critical(\"This is a CRITICAL message (a very serious error).\")\n"
      ],
      "metadata": {
        "colab": {
          "base_uri": "https://localhost:8080/"
        },
        "id": "SEAEEx-jRo5c",
        "outputId": "5267838b-8d17-4461-b614-3335f6516e54"
      },
      "execution_count": null,
      "outputs": [
        {
          "output_type": "stream",
          "name": "stderr",
          "text": [
            "WARNING:root:This is a WARNING message (something unexpected but not an error).\n",
            "ERROR:root:This is an ERROR message (a serious problem occurred).\n",
            "CRITICAL:root:This is a CRITICAL message (a very serious error).\n"
          ]
        }
      ]
    },
    {
      "cell_type": "code",
      "source": [
        "# 8. Write a program to handle a file opening error using exception handlingF\n",
        "\n",
        "try:\n",
        "    # Attempt to open a file that may not exist\n",
        "    file = open('non_existing_file.txt', 'r')\n",
        "    content = file.read()\n",
        "    print(content)\n",
        "    file.close()\n",
        "\n",
        "except FileNotFoundError:\n",
        "    print(\"Error: The file you are trying to open does not exist.\")\n",
        "\n",
        "except Exception as e:\n",
        "    print(f\"An unexpected error occurred: {e}\")"
      ],
      "metadata": {
        "colab": {
          "base_uri": "https://localhost:8080/"
        },
        "id": "ZavBWXC2K0ex",
        "outputId": "3c781fe6-8193-4e34-84dd-b46520469360"
      },
      "execution_count": null,
      "outputs": [
        {
          "output_type": "stream",
          "name": "stdout",
          "text": [
            "Error: The file you are trying to open does not exist.\n"
          ]
        }
      ]
    },
    {
      "cell_type": "code",
      "source": [
        "# 9. How can you read a file line by line and store its content in a list in Python\n",
        "with open(\"example.txt\", \"w\") as file:\n",
        "    file.write(\"Hello, world!, This is a string\\n can i read it \")\n",
        "\n",
        "try:\n",
        "    with open('example.txt', 'r') as file:\n",
        "        lines = file.readlines()  # Reads all lines into a list\n",
        "        # Optional: strip newline characters\n",
        "        lines = [line.strip() for line in lines]\n",
        "\n",
        "    print(\"Lines stored in list:\")\n",
        "    print(lines)\n",
        "\n",
        "except FileNotFoundError:\n",
        "    print(\"Error: The file was not found.\")"
      ],
      "metadata": {
        "colab": {
          "base_uri": "https://localhost:8080/"
        },
        "id": "S6uH_h5NLU52",
        "outputId": "0a1ec6d1-713e-4156-c7f9-e08a9b1948fc"
      },
      "execution_count": 19,
      "outputs": [
        {
          "output_type": "stream",
          "name": "stdout",
          "text": [
            "Lines stored in list:\n",
            "['Hello, world!, This is a string', 'can i read it']\n"
          ]
        }
      ]
    },
    {
      "cell_type": "code",
      "source": [
        "# 10.How can you append data to an existing file in Python\n",
        "with open(\"example.txt\", \"w\") as file:\n",
        "    file.write(\"Hello, world!, This is a string\\n can i read it \")\n",
        "try:\n",
        "    # Open the file in append mode\n",
        "    with open('example.txt', 'a') as file:\n",
        "        file.write(\"\\nThis is a new line being appended.\")\n",
        "\n",
        "    print(\"Data appended successfully.\")\n",
        "\n",
        "except Exception as e:\n",
        "    print(f\"An error occurred: {e}\")\n"
      ],
      "metadata": {
        "colab": {
          "base_uri": "https://localhost:8080/"
        },
        "id": "_K_nthQ-MF4_",
        "outputId": "44640343-e685-44bb-948b-4d55703d96c5"
      },
      "execution_count": 20,
      "outputs": [
        {
          "output_type": "stream",
          "name": "stdout",
          "text": [
            "Data appended successfully.\n"
          ]
        }
      ]
    },
    {
      "cell_type": "code",
      "source": [
        "# 11. Write a Python program that uses a try-except block to handle an error when attempting to access a\n",
        "# dictionary key that doesn't exist\n",
        "\n",
        "# Sample dictionary\n",
        "student_marks = {\n",
        "    'Sadhana': 85,\n",
        "    'Shrirang': 92,\n",
        "    'Shlok': 78\n",
        "}\n",
        "\n",
        "try:\n",
        "    # Try to access a key that may not exist\n",
        "    name = 'Shri'\n",
        "    marks = student_marks[name]\n",
        "    print(f\"{name}'s marks: {marks}\")\n",
        "\n",
        "except KeyError:\n",
        "    print(f\"Error: '{name}' key not found in the dictionary.\")"
      ],
      "metadata": {
        "colab": {
          "base_uri": "https://localhost:8080/"
        },
        "id": "bfwfNPWvMd83",
        "outputId": "cb97150f-33db-4de3-92e7-c91b2ed07743"
      },
      "execution_count": 1,
      "outputs": [
        {
          "output_type": "stream",
          "name": "stdout",
          "text": [
            "Error: 'Shri' key not found in the dictionary.\n"
          ]
        }
      ]
    },
    {
      "cell_type": "code",
      "source": [
        "# 13. Write a program that demonstrates using multiple except blocks to handle different types of exceptions\n",
        "try:\n",
        "    # Get user input\n",
        "    num1 = int(input(\"Enter a number: \"))\n",
        "    num2 = int(input(\"Enter another number: \"))\n",
        "\n",
        "    # Attempt division\n",
        "    result = num1 / num2\n",
        "    print(f\"Result: {result}\")\n",
        "\n",
        "except ZeroDivisionError:\n",
        "    print(\"Error: Cannot divide by zero.\")\n",
        "\n",
        "except ValueError:\n",
        "    print(\"Error: Please enter valid integers only.\")\n",
        "\n",
        "except Exception as e:\n",
        "    print(f\"An unexpected error occurred: {e}\")"
      ],
      "metadata": {
        "colab": {
          "base_uri": "https://localhost:8080/"
        },
        "id": "ViGuwXQIWu20",
        "outputId": "6fcb9c12-35ce-4668-b6c5-a8c6b746879b"
      },
      "execution_count": 4,
      "outputs": [
        {
          "output_type": "stream",
          "name": "stdout",
          "text": [
            "Enter a number: 3\n",
            "Enter another number: d\n",
            "Error: Please enter valid integers only.\n"
          ]
        }
      ]
    },
    {
      "cell_type": "code",
      "source": [
        "# 14.How would you check if a file exists before attempting to read it in Python\n",
        "import os\n",
        "\n",
        "file_path = 'test1.txt'\n",
        "\n",
        "if os.path.exists(file_path):\n",
        "    with open(file_path, 'r') as file:\n",
        "        content = file.read()\n",
        "        print(\"File content:\")\n",
        "        print(content)\n",
        "else:\n",
        "    print(f\"Error: The file '{file_path}' does not exist.\")"
      ],
      "metadata": {
        "colab": {
          "base_uri": "https://localhost:8080/"
        },
        "id": "ASlCUokBXJm-",
        "outputId": "60a2bbf2-f6c7-4f65-9c85-181f8a579f2d"
      },
      "execution_count": 23,
      "outputs": [
        {
          "output_type": "stream",
          "name": "stdout",
          "text": [
            "Error: The file 'test1.txt' does not exist.\n"
          ]
        }
      ]
    },
    {
      "cell_type": "code",
      "source": [
        "# 15. Write a program that uses the logging module to log both informational and error messagesF\n",
        "import logging\n",
        "\n",
        "# Configure logging\n",
        "logging.basicConfig(\n",
        "    level=logging.DEBUG,  # Log everything from DEBUG level and above\n",
        "    format='%(asctime)s - %(levelname)s - %(message)s',\n",
        "    filename='app.log',   # Log messages will be written to this file\n",
        "    filemode='w'          # Overwrite the log file each time you run\n",
        ")\n",
        "\n",
        "def divide(a, b):\n",
        "    logging.info(f\"Attempting to divide {a} by {b}\")\n",
        "    try:\n",
        "        result = a / b\n",
        "        logging.info(f\"Division successful: {result}\")\n",
        "        return result\n",
        "    except ZeroDivisionError as e:\n",
        "        logging.error(f\"Error occurred: Cannot divide by zero - {e}\")\n",
        "        return None\n",
        "    except Exception as e:\n",
        "        logging.error(f\"Unexpected error: {e}\")\n",
        "        return None\n",
        "\n",
        "# Example usage\n",
        "divide(10, 2)   # Logs info\n",
        "divide(5, 0)    # Logs error\n"
      ],
      "metadata": {
        "colab": {
          "base_uri": "https://localhost:8080/"
        },
        "id": "Tp9nMPwsXnBF",
        "outputId": "90f81709-8ae7-4a3a-8ccf-a801ff32838a"
      },
      "execution_count": 7,
      "outputs": [
        {
          "output_type": "stream",
          "name": "stderr",
          "text": [
            "ERROR:root:Error occurred: Cannot divide by zero - division by zero\n"
          ]
        }
      ]
    },
    {
      "cell_type": "code",
      "source": [
        "# 15. Write a Python program that prints the content of a file and handles the case when the file is emptyF\n",
        "\n",
        "with open(\"test.txt\", \"w\") as file:\n",
        "    file.write(\"\")\n",
        "def read_file(file_path):\n",
        "    try:\n",
        "        with open(file_path, 'r') as file:\n",
        "            content = file.read()\n",
        "\n",
        "            if content.strip() == \"\":\n",
        "                print(\"The file is empty.\")\n",
        "            else:\n",
        "                print(\"File content:\")\n",
        "                print(content)\n",
        "\n",
        "    except FileNotFoundError:\n",
        "        print(f\"Error: The file '{file_path}' does not exist.\")\n",
        "    except Exception as e:\n",
        "        print(f\"An unexpected error occurred: {e}\")\n",
        "\n",
        "# Example usage\n",
        "read_file('test.txt')\n"
      ],
      "metadata": {
        "colab": {
          "base_uri": "https://localhost:8080/"
        },
        "id": "wV98PnvQYF_H",
        "outputId": "738b41af-2eff-4fff-8ca3-c6d64dba3c6a"
      },
      "execution_count": 24,
      "outputs": [
        {
          "output_type": "stream",
          "name": "stdout",
          "text": [
            "The file is empty.\n"
          ]
        }
      ]
    },
    {
      "cell_type": "code",
      "source": [
        "# 16. Demonstrate how to use memory profiling to check the memory usage of a small programF\n",
        "# Step 1: Install memory-profiler\n",
        "!pip install memory-profiler\n",
        "\n",
        "# Step 2: Load the memory profiler exte nsion\n",
        "%load_ext memory_profiler\n",
        "\n",
        "# Step 3: Define the function to analyze\n",
        "def create_large_list():\n",
        "    big_list = [x * 2 for x in range(1000)]\n",
        "    return big_list\n",
        "\n",
        "# Step 4: Use memory profiler to check memory usage\n",
        "%memit create_large_list()\n"
      ],
      "metadata": {
        "colab": {
          "base_uri": "https://localhost:8080/"
        },
        "id": "73RmLd0-Y5fs",
        "outputId": "b9ccca3f-e01b-4bdc-e0d1-9ecf6838e364"
      },
      "execution_count": 27,
      "outputs": [
        {
          "output_type": "stream",
          "name": "stdout",
          "text": [
            "Requirement already satisfied: memory-profiler in /usr/local/lib/python3.11/dist-packages (0.61.0)\n",
            "Requirement already satisfied: psutil in /usr/local/lib/python3.11/dist-packages (from memory-profiler) (5.9.5)\n",
            "The memory_profiler extension is already loaded. To reload it, use:\n",
            "  %reload_ext memory_profiler\n",
            "peak memory: 134.89 MiB, increment: 0.00 MiB\n"
          ]
        }
      ]
    },
    {
      "cell_type": "code",
      "source": [
        "# 17. Write a Python program to create and write a list of numbers to a file, one number per lineF\n",
        "# List of numbers to write\n",
        "numbers = [10, 20, 30, 40, 50]\n",
        "\n",
        "# File path to write to\n",
        "file_path = 'numbers.txt'\n",
        "\n",
        "try:\n",
        "    with open(file_path, 'w') as file:\n",
        "        for number in numbers:\n",
        "            file.write(f\"{number}\\n\")\n",
        "\n",
        "    print(f\"Numbers successfully written to '{file_path}'.\")\n",
        "    with open(file_path,'r') as file:\n",
        "      content = file.read()\n",
        "      print(content)\n",
        "\n",
        "except Exception as e:\n",
        "    print(f\"An error occurred: {e}\")\n"
      ],
      "metadata": {
        "colab": {
          "base_uri": "https://localhost:8080/"
        },
        "id": "DqJUWo3NZZcn",
        "outputId": "0829ef1a-0343-4a13-f363-c2567cd94fd7"
      },
      "execution_count": 18,
      "outputs": [
        {
          "output_type": "stream",
          "name": "stdout",
          "text": [
            "Numbers successfully written to 'numbers.txt'.\n",
            "10\n",
            "20\n",
            "30\n",
            "40\n",
            "50\n",
            "\n"
          ]
        }
      ]
    },
    {
      "cell_type": "code",
      "source": [
        "# 18. How would you implement a basic logging setup that logs to a file with rotation after 1MB\u001f\n",
        "\n",
        "\n",
        "import logging\n",
        "from logging.handlers import RotatingFileHandler\n",
        "\n",
        "# Create a logger\n",
        "logger = logging.getLogger('MyLogger')\n",
        "logger.setLevel(logging.DEBUG)  # Log everything from DEBUG and above\n",
        "\n",
        "# Create a rotating file handler\n",
        "handler = RotatingFileHandler(\n",
        "    'my_app.log',           # Log file name\n",
        "    maxBytes=1 * 1024 * 1024,  # Rotate after 1MB\n",
        "    backupCount=3              # Keep last 3 log files\n",
        ")\n",
        "\n",
        "# Log format\n",
        "formatter = logging.Formatter('%(asctime)s - %(levelname)s - %(message)s')\n",
        "handler.setFormatter(formatter)\n",
        "\n",
        "# Add handler to logger\n",
        "logger.addHandler(handler)\n",
        "\n",
        "# Example logging\n",
        "for i in range(10):\n",
        "    logger.info(f\"Log message number {i}\")\n"
      ],
      "metadata": {
        "colab": {
          "base_uri": "https://localhost:8080/"
        },
        "id": "axHvv2VuaQ3i",
        "outputId": "c4fddeed-7bd2-409b-a1ba-b54dad851f0e"
      },
      "execution_count": 1,
      "outputs": [
        {
          "output_type": "stream",
          "name": "stderr",
          "text": [
            "INFO:MyLogger:Log message number 0\n",
            "INFO:MyLogger:Log message number 1\n",
            "INFO:MyLogger:Log message number 2\n",
            "INFO:MyLogger:Log message number 3\n",
            "INFO:MyLogger:Log message number 4\n",
            "INFO:MyLogger:Log message number 5\n",
            "INFO:MyLogger:Log message number 6\n",
            "INFO:MyLogger:Log message number 7\n",
            "INFO:MyLogger:Log message number 8\n",
            "INFO:MyLogger:Log message number 9\n"
          ]
        }
      ]
    },
    {
      "cell_type": "code",
      "source": [
        "# 19. Write a program that handles both IndexError and KeyError using a try-except blockF\n",
        "def handle_errors_separately():\n",
        "    my_list = [1, 2, 3]\n",
        "    my_dict = {'a': 10, 'b': 20}\n",
        "\n",
        "    # Handle IndexError\n",
        "    try:\n",
        "        print(\"Accessing list index 5:\", my_list[5])\n",
        "    except IndexError as e:\n",
        "        print(f\"IndexError caught: {e}\")\n",
        "\n",
        "    # Handle KeyError\n",
        "    try:\n",
        "        print(\"Accessing dictionary key 'z':\", my_dict['z'])\n",
        "    except KeyError as e:\n",
        "        print(f\"KeyError caught: {e}\")\n",
        "\n",
        "handle_errors_separately()\n"
      ],
      "metadata": {
        "colab": {
          "base_uri": "https://localhost:8080/"
        },
        "id": "XtnD-Ka-bAGf",
        "outputId": "f6de40dc-1997-4461-cfe9-1e6e2d8935ce"
      },
      "execution_count": 3,
      "outputs": [
        {
          "output_type": "stream",
          "name": "stdout",
          "text": [
            "IndexError caught: list index out of range\n",
            "KeyError caught: 'z'\n"
          ]
        }
      ]
    },
    {
      "cell_type": "code",
      "source": [
        "# 20.How would you open a file and read its contents using a context manager in Python\n",
        "file_path = 'example.txt'\n",
        "\n",
        "try:\n",
        "    with open(file_path, 'r') as file:\n",
        "        content = file.read()\n",
        "        print(\"File content:\")\n",
        "        print(content)\n",
        "\n",
        "except FileNotFoundError:\n",
        "    print(f\"Error: The file '{file_path}' does not exist.\")\n",
        "except Exception as e:\n",
        "    print(f\"An unexpected error occurred: {e}\")\n"
      ],
      "metadata": {
        "colab": {
          "base_uri": "https://localhost:8080/"
        },
        "id": "DGhMs2x6b7jx",
        "outputId": "07c4d8cf-daff-4d16-f5cf-72d124e7ca09"
      },
      "execution_count": 25,
      "outputs": [
        {
          "output_type": "stream",
          "name": "stdout",
          "text": [
            "File content:\n",
            "Hello, world!, This is a string\n",
            " can i read it \n",
            "This is a new line being appended.\n"
          ]
        }
      ]
    },
    {
      "cell_type": "code",
      "source": [
        "# 21. Write a Python program that reads a file and prints the number of occurrences of a specific word\n",
        "\n",
        "with open('occurances.txt','w') as file:\n",
        "  file.write('python is a coding language\\npython is very easy to learn\\n python is used in AI')\n",
        "\n",
        "def count_word_occurrences(file_path, target_word):\n",
        "    try:\n",
        "        with open(file_path, 'r') as file:\n",
        "            content = file.read().lower()  # Read file and convert to lowercase\n",
        "            words = content.split()        # Split into words\n",
        "            count = words.count(target_word.lower())  # Count occurrences\n",
        "\n",
        "        print(f\"The word '{target_word}' occurs {count} time(s) in the file.\")\n",
        "\n",
        "    except FileNotFoundError:\n",
        "        print(f\"Error: The file '{file_path}' does not exist.\")\n",
        "    except Exception as e:\n",
        "        print(f\"An unexpected error occurred: {e}\")\n",
        "\n",
        "# 🔁 Example usage\n",
        "count_word_occurrences('occurances.txt', 'python')\n"
      ],
      "metadata": {
        "colab": {
          "base_uri": "https://localhost:8080/"
        },
        "id": "Y4pIa8excxvf",
        "outputId": "de7436fd-c726-43f9-9272-b81dbcc56d34"
      },
      "execution_count": 5,
      "outputs": [
        {
          "output_type": "stream",
          "name": "stdout",
          "text": [
            "The word 'python' occurs 3 time(s) in the file.\n"
          ]
        }
      ]
    },
    {
      "cell_type": "code",
      "source": [
        "# 22.How can you check if a file is empty before attempting to read its contents\n",
        "with open('test.txt','w') as file:\n",
        "  file.write('')\n",
        "try:\n",
        "    with open('test.txt', 'r') as file:\n",
        "        content = file.read()\n",
        "        if content.strip()=='':\n",
        "            print(\"The file is empty.\")\n",
        "        else:\n",
        "            print(\"File content:\")\n",
        "            print(content)\n",
        "\n",
        "except FileNotFoundError:\n",
        "    print(\"File not found.\")\n"
      ],
      "metadata": {
        "colab": {
          "base_uri": "https://localhost:8080/"
        },
        "id": "F9P_y6JLdsS3",
        "outputId": "dd6d77b2-9cd4-4bd6-d649-5940e41042fb"
      },
      "execution_count": 15,
      "outputs": [
        {
          "output_type": "stream",
          "name": "stdout",
          "text": [
            "The file is empty.\n"
          ]
        }
      ]
    },
    {
      "cell_type": "code",
      "source": [
        "# 23. Write a Python program that writes to a log file when an error occurs during file handling.\n",
        "import logging\n",
        "\n",
        "# Set up logging\n",
        "logging.basicConfig(\n",
        "    filename='file_errors.log',      # Log file name\n",
        "    level=logging.ERROR,             # Log only ERROR level and above\n",
        "    format='%(asctime)s - %(levelname)s - %(message)s'\n",
        ")\n",
        "\n",
        "def read_file(file_path):\n",
        "    try:\n",
        "        with open(file_path, 'r') as file:\n",
        "            content = file.read()\n",
        "            print(\"File content:\")\n",
        "            print(content)\n",
        "\n",
        "    except FileNotFoundError as e:\n",
        "        logging.error(f\"File not found: {file_path} - {e}\")\n",
        "        print(\"Error: File does not exist.\")\n",
        "\n",
        "    except Exception as e:\n",
        "        logging.error(f\"Unexpected error while reading file {file_path} - {e}\")\n",
        "        print(\"An unexpected error occurred.\")\n",
        "\n",
        "# Example usage\n",
        "read_file('non_existing_file.txt')\n"
      ],
      "metadata": {
        "colab": {
          "base_uri": "https://localhost:8080/"
        },
        "id": "EQu1lAiUfuIR",
        "outputId": "0f91d536-5069-4892-955e-b8e0ccf5223f"
      },
      "execution_count": 16,
      "outputs": [
        {
          "output_type": "stream",
          "name": "stderr",
          "text": [
            "ERROR:root:File not found: non_existing_file.txt - [Errno 2] No such file or directory: 'non_existing_file.txt'\n"
          ]
        },
        {
          "output_type": "stream",
          "name": "stdout",
          "text": [
            "Error: File does not exist.\n"
          ]
        }
      ]
    }
  ]
}