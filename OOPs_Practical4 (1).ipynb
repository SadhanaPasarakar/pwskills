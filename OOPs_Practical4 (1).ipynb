{
  "nbformat": 4,
  "nbformat_minor": 0,
  "metadata": {
    "colab": {
      "provenance": []
    },
    "kernelspec": {
      "name": "python3",
      "display_name": "Python 3"
    },
    "language_info": {
      "name": "python"
    }
  },
  "cells": [
    {
      "cell_type": "markdown",
      "source": [
        "1. What is Object-Oriented Programming (OOP)?\n",
        "Answer: OOP is a programming paradigm based on the concept of \"objects\", which encapsulate both data and behavior. It promotes modularity, reusability, and maintainability through four main principles: encapsulation, abstraction, inheritance, and polymorphism.\n",
        "\n",
        "2. What is a class in OOP?\n",
        "Answer: A class is a blueprint for creating objects. It defines a set of attributes and methods that the created objects (instances) will have.\n",
        "\n",
        "3. What is an object in OOP?\n",
        "Answer: An object is an instance of a class. It represents a specific entity with its own state and behavior defined by the class.\n",
        "\n",
        "4. What is the difference between abstraction and encapsulation?\n",
        "Answer:\n",
        "•\tAbstraction hides the complex implementation and shows only the essential features (e.g., using a method without knowing how it works).\n",
        "•\tEncapsulation restricts direct access to data by bundling it with methods and using access modifiers (e.g., private variables).\n",
        "\n",
        "5. What are dunder methods in Python?\n",
        "Answer: Dunder (double underscore) methods like __init__, __str__, __repr__ are special methods in Python used to define behaviors for built-in operations (e.g., object creation, printing, arithmetic operations).\n",
        "\n",
        "6. Explain the concept of inheritance in OOP.\n",
        "Answer: Inheritance allows one class (child/subclass) to inherit the properties and methods of another class (parent/superclass), enabling code reuse and logical hierarchy.\n",
        "\n",
        "7. What is polymorphism in OOP?\n",
        "Answer: Polymorphism allows objects of different classes to be treated through the same interface. For example, different classes may implement the same method name, but the behavior differs based on the object calling it.\n",
        "\n",
        "8. How is encapsulation achieved in Python?\n",
        "Answer: Encapsulation is achieved by making attributes private using underscores (e.g., __balance) and exposing them via public methods or properties (@property, @setter).\n",
        "\n",
        "9. What is a constructor in Python?\n",
        "Answer: A constructor is a special method (__init__) that is automatically called when a new object is created. It initializes the object’s attributes.\n",
        "\n",
        "10. What are class and static methods in Python?\n",
        "Answer:\n",
        "•\tClass methods use the @classmethod decorator and receive the class (cls) as the first argument.\n",
        "•\tStatic methods use @staticmethod and do not take self or cls. They behave like regular functions but belong to the class.\n",
        "\n",
        "11. What is method overloading in Python?\n",
        "Answer: Python does not support traditional method overloading (same method name with different signatures). However, it can be simulated using default arguments or *args/**kwargs.\n",
        "\n",
        "12. What is method overriding in OOP?\n",
        "Answer: Method overriding allows a subclass to provide a specific implementation of a method already defined in its superclass.\n",
        "\n",
        "13. What is a property decorator in Python?\n",
        "Answer: The @property decorator is used to define a method as a getter, allowing it to be accessed like an attribute. It can also be paired with @<property>.setter and @<property>.deleter.\n",
        "\n",
        "14. Why is polymorphism important in OOP?\n",
        "Answer: Polymorphism promotes flexibility and extensibility by allowing code to use objects of different types through a common interface, reducing code duplication and enhancing maintainability.\n",
        "\n",
        "15. What is an abstract class in Python?\n",
        "Answer: An abstract class is a class that cannot be instantiated and may contain abstract methods (declared but not implemented). It's created using the abc module and helps define a common interface for subclasses.\n",
        "\n",
        "16. What are the advantages of OOP?\n",
        "Answer:\n",
        "•\tModularity and code reuse\n",
        "•\tImproved maintainability\n",
        "•\tData hiding and security\n",
        "•\tBetter scalability and flexibility\n",
        "•\tReal-world modeling of problems\n",
        "\n",
        "17. What is the difference between a class variable and an instance variable?\n",
        "Answer:\n",
        "•\tClass variables are shared across all instances of the class.\n",
        "•\tInstance variables are unique to each object and defined using self.\n",
        "\n",
        "18. What is multiple inheritance in Python?\n",
        "Answer: Multiple inheritance allows a class to inherit from more than one parent class. Python supports it, but it can introduce complexity (handled by the Method Resolution Order - MRO).\n",
        "\n",
        "19. Explain the purpose of __str__ and __repr__ methods in Python.\n",
        "Answer:\n",
        "•\t__str__ defines the human-readable string representation of an object (used with print()).\n",
        "•\t__repr__ defines the developer-friendly string (used in debugging or REPL).\n",
        "\n",
        "20. What is the significance of the super() function in Python?\n",
        "Answer: super() is used to call methods from a parent class. It’s especially useful in inheritance to avoid hardcoding the parent class name and to support cooperative multiple inheritance.\n",
        "\n",
        "21. What is the significance of the __del__ method in Python?\n",
        "Answer: __del__ is a destructor method called when an object is deleted. It can be used to clean up resources, but its use is generally discouraged in favor of context managers (with statement).\n",
        "\n",
        "22. What is the difference between @staticmethod and @classmethod in Python?\n",
        "Answer:\n",
        "•\t@staticmethod: No access to self or cls, behaves like a normal function within a class.\n",
        "•\t@classmethod: Receives cls and can modify class state or create new class instances.\n",
        "\n",
        "23. How does polymorphism work in Python with inheritance?\n",
        "Answer: In inheritance, polymorphism allows the child class to override methods of the parent. When a method is called on a parent reference, the actual child class method is executed.\n",
        "\n",
        "24. What is method chaining in Python OOP?\n",
        "Answer: Method chaining is calling multiple methods on the same object in a single line, e.g., obj.set_name(\"S\").set_age(10). It works by returning self from each method.\n",
        "\n",
        "25. What is the purpose of the __call__ method in Python?\n",
        "Answer: __call__ makes an instance callable like a function. Defining this method allows you to \"call\" an object, enabling function-like behavior on instances.\n",
        "\n",
        "\n"
      ],
      "metadata": {
        "id": "15jRK9qlvchf"
      }
    },
    {
      "cell_type": "code",
      "execution_count": 20,
      "metadata": {
        "colab": {
          "base_uri": "https://localhost:8080/"
        },
        "id": "lh7-ABhDTvw8",
        "outputId": "d5c41ea1-832a-46a4-c704-9963e4b28d64"
      },
      "outputs": [
        {
          "output_type": "stream",
          "name": "stdout",
          "text": [
            "Animals can not speak\n",
            "Dogs Bark!\n"
          ]
        }
      ],
      "source": [
        "# 1. Create a parent class Animal with a method speak() that prints a generic message. Create a child class Dog\n",
        "# that overrides the speak() method to print \"Bark!\".\n",
        "\n",
        "class Animal:\n",
        "  def speak(self):\n",
        "    print('Animals can not speak')\n",
        "class Dog(Animal):\n",
        "  def speak(self):\n",
        "    print('Dogs Bark!')\n",
        "obj1 = Animal()\n",
        "obj1.speak()\n",
        "obj2= Dog()\n",
        "obj2.speak()"
      ]
    },
    {
      "cell_type": "code",
      "source": [
        "# 2. Write a program to create an abstract class Shape with a method area(). Derive classes Circle and Rectangle\n",
        "# from it and implement the area() method in both.\n",
        "\n",
        "from abc import ABC,abstractmethod\n",
        "class Shape(ABC):\n",
        "  @abstractmethod\n",
        "  def area(self):\n",
        "    print('shape class')\n",
        "class Circle(Shape):\n",
        "\n",
        "  def __init__(self,radius):\n",
        "    self.radius= radius\n",
        "\n",
        "\n",
        "  def area(self):\n",
        "\n",
        "    print(f'area of circle is {3.14*self.radius}')\n",
        "\n",
        "class Rectangle(Shape):\n",
        "  def __init__(self,length, breadth):\n",
        "    self.length= length\n",
        "    self.breadth= breadth\n",
        "  def area(self):\n",
        "     print(f'area of rectangle : {self.length*self.breadth}')\n",
        "\n",
        "obj = Circle(6)\n",
        "obj.area()\n",
        "\n",
        "obj1 = Rectangle(3,4)\n",
        "obj1.area()\n",
        "\n",
        "\n"
      ],
      "metadata": {
        "colab": {
          "base_uri": "https://localhost:8080/"
        },
        "id": "Ml4VzPTnUy5Q",
        "outputId": "3d4ff231-44e4-42d6-ad43-4eabf8024a5a"
      },
      "execution_count": 14,
      "outputs": [
        {
          "output_type": "stream",
          "name": "stdout",
          "text": [
            "area of circle is 18.84\n",
            "area of rectangle : 12\n"
          ]
        }
      ]
    },
    {
      "cell_type": "code",
      "source": [
        "# 3. Implement a multi-level inheritance scenario where a class Vehicle has an attribute type. Derive a class Car\n",
        "# and further derive a class ElectricCar that adds a battery attribute\n",
        "\n",
        "class Vehicle:\n",
        "    def __init__(self, type):\n",
        "        self.type = type\n",
        "\n",
        "class Car(Vehicle):\n",
        "    def __init__(self, type):\n",
        "        super().__init__(type)  # Call Vehicle's __init__\n",
        "\n",
        "    def car_info(self):\n",
        "        print(\"This is car section\")\n",
        "\n",
        "class ElectricCar(Car):\n",
        "    def __init__(self, type, battery):\n",
        "        super().__init__(type)  # Call Car's __init__, which calls Vehicle's\n",
        "        self.battery = battery\n",
        "\n",
        "    def display_info(self):\n",
        "        print(f\"Type: {self.type}, Battery: {self.battery}\")\n",
        "\n",
        "\n",
        "ecar = ElectricCar(\"Electric Vehicle\", \"80 kWh\")\n",
        "\n",
        "ecar.display_info()\n",
        "ecar.car_info()\n",
        "\n",
        "\n",
        "\n",
        "\n",
        "\n",
        "\n",
        "\n"
      ],
      "metadata": {
        "id": "tvexYXs-VPXK",
        "colab": {
          "base_uri": "https://localhost:8080/"
        },
        "outputId": "3adbb98b-7d08-43e1-f3d8-cd0bec4db1e0"
      },
      "execution_count": 26,
      "outputs": [
        {
          "output_type": "stream",
          "name": "stdout",
          "text": [
            "Type: Electric Vehicle, Battery: 80 kWh\n",
            "This is car section\n"
          ]
        }
      ]
    },
    {
      "cell_type": "code",
      "source": [
        "# 4. Demonstrate polymorphism by creating a base class Bird with a method fly(). Create two derived classes\n",
        "# Sparrow and Penguin that override the fly() method.\n",
        "class Bird:\n",
        "  def fly(self):\n",
        "    print('this is fly')\n",
        "class Sparrow(Bird):\n",
        "  def fly(self):\n",
        "    print('this is Sparrow')\n",
        "class Penguin(Bird):\n",
        "  def fly(self):\n",
        "    print('This is penguin')\n",
        "obj = Sparrow()\n",
        "obj1 = Penguin()\n",
        "obj2 = Bird()\n",
        "obj.fly()\n",
        "obj1.fly()\n",
        "obj2.fly()"
      ],
      "metadata": {
        "colab": {
          "base_uri": "https://localhost:8080/"
        },
        "id": "q_TQrZZFXBcc",
        "outputId": "3fd0ab80-f77c-4c37-b147-496d08c7bb28"
      },
      "execution_count": 3,
      "outputs": [
        {
          "output_type": "stream",
          "name": "stdout",
          "text": [
            "this is Sparrow\n",
            "This is penguin\n",
            "this is fly\n"
          ]
        }
      ]
    },
    {
      "cell_type": "code",
      "source": [
        "# 5. Write a program to demonstrate encapsulation by creating a class BankAccount with private attributes\n",
        "# balance and methods to deposit, withdraw, and check balance.\n",
        "\n",
        "class BankAccount:\n",
        "    def __init__(self, initial_balance=0):\n",
        "        self.__balance = initial_balance  # private attribute\n",
        "\n",
        "    def deposit(self, amount):\n",
        "        if amount > 0:\n",
        "            self.__balance += amount\n",
        "            print(f\"Deposited ₹{amount}\")\n",
        "        else:\n",
        "            print(\"Deposit amount must be positive.\")\n",
        "\n",
        "    def withdraw(self, amount):\n",
        "        if amount > self.__balance:\n",
        "            print(\"Insufficient balance.\")\n",
        "        elif amount <= 0:\n",
        "            print(\"Withdrawal amount must be positive.\")\n",
        "        else:\n",
        "            self.__balance -= amount\n",
        "            print(f\"Withdrawn ₹{amount}\")\n",
        "\n",
        "    def check_balance(self):\n",
        "        return self.__balance\n",
        "\n",
        "\n",
        "account = BankAccount(1000)\n",
        "account.deposit(500)\n",
        "account.withdraw(200)\n",
        "print(\"Current Balance:\", account.check_balance())\n"
      ],
      "metadata": {
        "colab": {
          "base_uri": "https://localhost:8080/"
        },
        "id": "kB_uc3AcXHWS",
        "outputId": "3cdfd189-ca9e-4bc7-a2c0-b4ccc0314efb"
      },
      "execution_count": 16,
      "outputs": [
        {
          "output_type": "stream",
          "name": "stdout",
          "text": [
            "Deposited ₹500\n",
            "Withdrawn ₹200\n",
            "Current Balance: 1300\n"
          ]
        }
      ]
    },
    {
      "cell_type": "code",
      "source": [
        "# 6. Demonstrate runtime polymorphism using a method play() in a base class Instrument. Derive classes Guitar\n",
        "# and Piano that implement their own version of play().\n",
        "class Instrument:\n",
        "  def play(self):\n",
        "    print('playing instrument is Fun')\n",
        "class Guitar(Instrument):\n",
        "  def play(self):\n",
        "    print('I like to play guitar')\n",
        "class Piano(Instrument):\n",
        "  def play(self):\n",
        "    print('piano is a nice instrument')\n",
        "\n",
        "obj = Instrument()\n",
        "obj1 = Guitar()\n",
        "obj2 = Piano()\n",
        "obj.play()\n",
        "obj1.play()\n",
        "obj2.play()"
      ],
      "metadata": {
        "colab": {
          "base_uri": "https://localhost:8080/"
        },
        "id": "vYx8U5iekPRn",
        "outputId": "af757e25-9924-4d24-f56f-39655b8e4d7e"
      },
      "execution_count": 21,
      "outputs": [
        {
          "output_type": "stream",
          "name": "stdout",
          "text": [
            "playing instrument is Fun\n",
            "I like to play guitar\n",
            "piano is a nice instrument\n"
          ]
        }
      ]
    },
    {
      "cell_type": "code",
      "source": [
        "# 7. Create a class MathOperations with a class method add_numbers() to add two numbers and a static\n",
        "# method subtract_numbers() to subtract two numbers.\n",
        "\n",
        "class MathOperations:\n",
        "  @classmethod\n",
        "  def add_numbers(cls,a,b):\n",
        "    print(a+b)\n",
        "  @staticmethod\n",
        "  def subtract(a,b):\n",
        "    print(a-b)\n",
        "addition = MathOperations.add_numbers(2,3)\n",
        "subtraction = MathOperations.subtract(2,3)\n"
      ],
      "metadata": {
        "colab": {
          "base_uri": "https://localhost:8080/"
        },
        "id": "irhHIM-lmCPv",
        "outputId": "bfeab9ed-f0c5-46d9-88d8-f17c6ef9daec"
      },
      "execution_count": 6,
      "outputs": [
        {
          "output_type": "stream",
          "name": "stdout",
          "text": [
            "5\n",
            "-1\n"
          ]
        }
      ]
    },
    {
      "cell_type": "code",
      "source": [
        "\n",
        "# 8. Implement a class Person with a class method to count the total number of persons created\n",
        "\n",
        "class Person:\n",
        "  count=0\n",
        "  def __init__(self):\n",
        "    Person.count+=1\n",
        "\n",
        "obj1 = Person()\n",
        "obj2 = Person()\n",
        "obj3 = Person()\n",
        "obj4 = Person()\n",
        "\n",
        "total_count=Person.count\n",
        "print(total_count)\n",
        "\n"
      ],
      "metadata": {
        "colab": {
          "base_uri": "https://localhost:8080/"
        },
        "id": "GVWzRYsJQo5f",
        "outputId": "146958c5-7c47-4c09-b149-b54bb9348a1e"
      },
      "execution_count": 16,
      "outputs": [
        {
          "output_type": "stream",
          "name": "stdout",
          "text": [
            "4\n"
          ]
        }
      ]
    },
    {
      "cell_type": "code",
      "source": [
        "# 9. Write a class Fraction with attributes numerator and denominator. Override the str method to display the\n",
        "# fraction as \"numerator/denominator\".\n",
        "\n",
        "class Fraction:\n",
        "    def __init__(self, numerator, denominator):\n",
        "        self.numerator = numerator\n",
        "        self.denominator = denominator\n",
        "\n",
        "    def __str__(self):\n",
        "        return f\"{self.numerator}/{self.denominator}\"\n",
        "\n",
        "# Example usage\n",
        "f1 = Fraction(3, 4)\n",
        "print(f1)\n",
        "\n",
        "f2 = Fraction(7, 2)\n",
        "print(f2)"
      ],
      "metadata": {
        "colab": {
          "base_uri": "https://localhost:8080/"
        },
        "id": "OsEK3JbwS8H0",
        "outputId": "07873ebf-1233-4c65-b278-a96fcbf92060"
      },
      "execution_count": 17,
      "outputs": [
        {
          "output_type": "stream",
          "name": "stdout",
          "text": [
            "3/4\n",
            "7/2\n"
          ]
        }
      ]
    },
    {
      "cell_type": "code",
      "source": [
        "# 10. Demonstrate operator overloading by creating a class Vector and overriding the add method to add two\n",
        "# vectors.\n",
        "\n",
        "class Vector:\n",
        "    def __init__(self, x, y):\n",
        "        self.x = x\n",
        "        self.y = y\n",
        "\n",
        "    def __add__(self, other):\n",
        "        if not isinstance(other, Vector):\n",
        "            return NotImplemented\n",
        "        # Return a new Vector whose components are summed\n",
        "        return Vector(self.x + other.x, self.y + other.y)\n",
        "\n",
        "    def __str__(self):\n",
        "        return f\"Vector({self.x}, {self.y})\"\n",
        "\n",
        "    __repr__ = __str__\n",
        "\n",
        "\n",
        "# Example usage\n",
        "v1 = Vector(2, 3)\n",
        "print(v1)\n",
        "v2 = Vector(5, -1)\n",
        "print(v2)\n",
        "v3 = v1 + v2\n",
        "print(v3)"
      ],
      "metadata": {
        "colab": {
          "base_uri": "https://localhost:8080/"
        },
        "id": "TFQd0vsnZe-a",
        "outputId": "2a2b4aed-ae31-49a7-de42-a2da00f5e5c0"
      },
      "execution_count": 19,
      "outputs": [
        {
          "output_type": "stream",
          "name": "stdout",
          "text": [
            "Vector(2, 3)\n",
            "Vector(5, -1)\n",
            "Vector(7, 2)\n"
          ]
        }
      ]
    },
    {
      "cell_type": "code",
      "source": [
        "# 11. Create a class Person with attributes name and age. Add a method greet() that prints \"Hello, my name is\n",
        "# {name} and I am {age} years old.\"\n",
        "\n",
        "class Person:\n",
        "  def __init__(self,name,age):\n",
        "    self.name = name\n",
        "    self.age = age\n",
        "  def greet(self):\n",
        "    print(f'Hello, my name is {self.name} and I am {self.age} years old')\n",
        "\n",
        "obj = Person('Sadhana', 30)\n",
        "obj.greet()\n",
        "\n"
      ],
      "metadata": {
        "colab": {
          "base_uri": "https://localhost:8080/"
        },
        "id": "zZwNqruvZgvz",
        "outputId": "ebc7c081-d3cb-4c65-ae7c-75974d697d6e"
      },
      "execution_count": 20,
      "outputs": [
        {
          "output_type": "stream",
          "name": "stdout",
          "text": [
            "Hello, my name is Sadhana and I am 30 years old\n"
          ]
        }
      ]
    },
    {
      "cell_type": "code",
      "source": [
        "# 12. Implement a class Student with attributes name and grades. Create a method average_grade() to compute\n",
        "# the average of the grades.\n",
        "\n",
        "class Student:\n",
        "  def __init__(self, name, *grades):\n",
        "    self.name = name\n",
        "    self.grades = grades\n",
        "  def average_grade(self):\n",
        "    average = sum(self.grades)/len(self.grades)\n",
        "    return average\n",
        "\n",
        "avg = Student('Sadhana', 5,7,8,3)\n",
        "avg.average_grade()"
      ],
      "metadata": {
        "colab": {
          "base_uri": "https://localhost:8080/"
        },
        "id": "2jiXxQI1a3QS",
        "outputId": "64964f6d-4c7c-4db1-ddf4-08b5c8ead054"
      },
      "execution_count": 4,
      "outputs": [
        {
          "output_type": "execute_result",
          "data": {
            "text/plain": [
              "5.75"
            ]
          },
          "metadata": {},
          "execution_count": 4
        }
      ]
    },
    {
      "cell_type": "code",
      "source": [
        "# 13. Create a class Rectangle with methods set_dimensions() to set the dimensions and area() to calculate the\n",
        "# area.\n",
        "class Rectangle:\n",
        "  def __init__(self, length, breadth):\n",
        "    self.length = length\n",
        "    self.breadth = breadth\n",
        "  def set_dimensions(self,length, breadth):\n",
        "    self.length = length\n",
        "    self.breadth = breadth\n",
        "  def area(self):\n",
        "    area_of_rectangle = self.length*self.breadth\n",
        "    return area_of_rectangle\n",
        "\n",
        "obj = Rectangle(2,3)\n",
        "print(obj.area())\n",
        "obj.set_dimensions(7,6)\n",
        "print(obj.area())\n"
      ],
      "metadata": {
        "colab": {
          "base_uri": "https://localhost:8080/"
        },
        "id": "nK8jQRJZXaFb",
        "outputId": "d8d31e10-ee28-4d1c-ed6c-dd8a1541f57d"
      },
      "execution_count": 11,
      "outputs": [
        {
          "output_type": "stream",
          "name": "stdout",
          "text": [
            "6\n",
            "42\n"
          ]
        }
      ]
    },
    {
      "cell_type": "code",
      "source": [
        "# 14. Create a class Employee with a method calculate_salary() that computes the salary based on hours worked\n",
        "# and hourly rate. Create a derived class Manager that adds a bonus to the salary.\n",
        "\n",
        "class Employee:\n",
        "  def __init__(self,hours_worked, hourly_rate):\n",
        "    self.hours_worked = hours_worked\n",
        "    self.hourly_rate = hourly_rate\n",
        "  def calculate_salary(self):\n",
        "    salary = self.hours_worked*self.hourly_rate\n",
        "    return salary\n",
        "class Manager(Employee):\n",
        "  def __init__(self, hours_worked, hourly_rate,bonus):\n",
        "    super().__init__(hours_worked, hourly_rate)\n",
        "    self.bonus = bonus\n",
        "  def calculate_salary(self):\n",
        "    return super().calculate_salary()+self.bonus\n",
        "\n",
        "obj = Employee(10,8)\n",
        "Salary_without_bonus= obj.calculate_salary()\n",
        "print(Salary_without_bonus)\n",
        "obj1= Manager(10,8,100)\n",
        "obj1.calculate_salary()\n",
        "Salary_with_bonus = obj1.calculate_salary()\n",
        "print(Salary_with_bonus)"
      ],
      "metadata": {
        "colab": {
          "base_uri": "https://localhost:8080/"
        },
        "id": "rDhM23QsZu3F",
        "outputId": "c569c49c-25a0-4910-c35d-e514adffde45"
      },
      "execution_count": 24,
      "outputs": [
        {
          "output_type": "stream",
          "name": "stdout",
          "text": [
            "80\n",
            "180\n"
          ]
        }
      ]
    },
    {
      "cell_type": "code",
      "source": [
        "# 15. Create a class Product with attributes name, price, and quantity. Implement a method total_price() that\n",
        "# calculates the total price of the product.\n",
        "\n",
        "\n",
        "class Product:\n",
        "  def __init__(self,name, price, quantity):\n",
        "    self.name = name\n",
        "    self.price = price\n",
        "    self.quantity = quantity\n",
        "  def total_price(self):\n",
        "    total = self.quantity*self.price\n",
        "\n",
        "    return total\n",
        "obj = Product('Pen', 5,10)\n",
        "total_cost = obj.total_price()\n",
        "print(f'Total cost of {obj.quantity} {obj.name + (\"s\" if obj.quantity > 1 else \"\")} is {total_cost} having cost of {obj.price} RS per {obj.name.lower()}')\n",
        "\n"
      ],
      "metadata": {
        "colab": {
          "base_uri": "https://localhost:8080/"
        },
        "id": "WjvXbamFnDNU",
        "outputId": "618980da-953f-4ffc-e693-4c0c8af19d5b"
      },
      "execution_count": 8,
      "outputs": [
        {
          "output_type": "stream",
          "name": "stdout",
          "text": [
            "Total cost of 10 Pens is 50 having cost of 5 RS per pen\n"
          ]
        }
      ]
    },
    {
      "cell_type": "code",
      "source": [
        "# 16. Create a class Animal with an abstract method sound(). Create two derived classes Cow and Sheep that\n",
        "# implement the sound() method.\n",
        "from abc import ABC, abstractmethod\n",
        "class Animal(ABC):\n",
        "  @abstractmethod\n",
        "  def sound(self):\n",
        "    print('this is abstract method sound')\n",
        "class Cow(Animal):\n",
        "  def sound(self):\n",
        "    print('cows moo')\n",
        "class Sheep(Animal):\n",
        "  def sound(self):\n",
        "    print('sheep baa')\n",
        "\n",
        "# obj =Animal() ### error cant instantiate abstract class\n",
        "# obj.sound()\n",
        "obj1 = Cow()\n",
        "obj1.sound()\n",
        "obj2 = Sheep()\n",
        "obj2.sound()\n"
      ],
      "metadata": {
        "colab": {
          "base_uri": "https://localhost:8080/"
        },
        "id": "8EeZ2Ce3ZxtL",
        "outputId": "1a63e8b4-f1a0-4247-eee3-b9052fbed7ea"
      },
      "execution_count": 6,
      "outputs": [
        {
          "output_type": "stream",
          "name": "stdout",
          "text": [
            "cows moo\n",
            "sheep baa\n"
          ]
        }
      ]
    },
    {
      "cell_type": "code",
      "source": [
        "# 17. Create a class Book with attributes title, author, and year_published. Add a method get_book_info() that\n",
        "# returns a formatted string with the book's details\n",
        "\n",
        "class Book:\n",
        "  def __init__(self, title, author, year_published):\n",
        "    self.title = title\n",
        "    self.author = author\n",
        "    self.year_published = year_published\n",
        "  def get_book_info(self):\n",
        "    return f\" title = {self.title}, author = {self.author}, year_published = {self.year_published}\"\n",
        "\n",
        "obj = Book('The Alchemist', 'Paulo Coelho', 1988)\n",
        "print(obj.get_book_info())\n",
        "\n",
        "\n"
      ],
      "metadata": {
        "colab": {
          "base_uri": "https://localhost:8080/"
        },
        "id": "vkZKgJeTRJeY",
        "outputId": "bf392f0a-b46c-4434-e8dd-641f92def70b"
      },
      "execution_count": 2,
      "outputs": [
        {
          "output_type": "stream",
          "name": "stdout",
          "text": [
            " title = The Alchemist, author = Paulo Coelho, year_published = 1988\n"
          ]
        }
      ]
    },
    {
      "cell_type": "code",
      "source": [
        "# 18. Create a class House with attributes address and price. Create a derived class Mansion that adds an\n",
        "# attribute number_of_rooms.\n",
        "\n",
        "class House:\n",
        "  def __init__(self, address,price):\n",
        "    self.address = address\n",
        "    self.price = price\n",
        "\n",
        "class Mansion(House):\n",
        "  def __init__(self,address, price, number_of_rooms):\n",
        "    super().__init__(address,price)\n",
        "    self.number_of_rooms = number_of_rooms\n",
        "Home = House('Pune',80000)\n",
        "print(Home.address)\n",
        "print(Home.price)\n",
        "Bunglow = Mansion('Mumbai',1000000,32)\n",
        "print(Bunglow.number_of_rooms)\n",
        "print(Bunglow.address)\n",
        "print(Bunglow.price)\n",
        "print(Home.address)"
      ],
      "metadata": {
        "colab": {
          "base_uri": "https://localhost:8080/"
        },
        "id": "voPkNvOFpvU_",
        "outputId": "54e4e513-df71-4825-ede5-a29aa82f7b53"
      },
      "execution_count": 13,
      "outputs": [
        {
          "output_type": "stream",
          "name": "stdout",
          "text": [
            "Pune\n",
            "80000\n",
            "32\n",
            "Mumbai\n",
            "1000000\n",
            "Pune\n"
          ]
        }
      ]
    }
  ]
}