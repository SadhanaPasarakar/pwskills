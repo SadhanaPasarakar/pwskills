{
  "nbformat": 4,
  "nbformat_minor": 0,
  "metadata": {
    "colab": {
      "provenance": []
    },
    "kernelspec": {
      "name": "python3",
      "display_name": "Python 3"
    },
    "language_info": {
      "name": "python"
    }
  },
  "cells": [
    {
      "cell_type": "markdown",
      "source": [
        "Q1. What is a RESTful API?\n",
        "A RESTful API is an interface that allows interaction with resources using HTTP methods (GET, POST, PUT, DELETE). It is stateless and widely used for web and mobile applications.\n",
        "________________________________________\n",
        "Q2. Explain the concept of API specification\n",
        "An API specification defines endpoints, HTTP methods, request/response formats, authentication, and error codes. Examples: OpenAPI, Swagger. It ensures developers can understand and integrate APIs correctly.\n",
        "________________________________________\n",
        "Q3. What is Flask, and why is it popular for building APIs?\n",
        "Flask is a lightweight Python web framework. It is popular because it is simple, flexible, has many extensions, and is ideal for building REST APIs and microservices.\n",
        "________________________________________\n",
        "Q4. What is routing in Flask\n",
        "Routing maps URLs to Python functions using @app.route().\n",
        "Code snippet:\n",
        "@app.route(\"/home\")\n",
        "def home():\n",
        "    return \"Welcome to Home\"\n",
        "________________________________________\n",
        "Q5. How do you create a simple Flask application\n",
        "1.\tImport Flask\n",
        "2.\tCreate an app instance\n",
        "3.\tDefine routes using @app.route()\n",
        "4.\tRun the app with app.run()\n",
        "________________________________________\n",
        "Q6. What are HTTP methods used in RESTful APIs?\n",
        "•\tGET: Retrieve data\n",
        "•\tPOST: Create data\n",
        "•\tPUT: Update/replace data\n",
        "•\tPATCH: Update partially\n",
        "•\tDELETE: Remove data\n",
        "________________________________________\n",
        "Q7. What is the purpose of the @app.route() decorator in Flask?\n",
        "It binds a URL to a Python function so that the function runs when the URL is accessed.\n",
        "________________________________________\n",
        "Q8. What is the difference between GET and POST HTTP methods?\n",
        "•\tGET: Sends data via URL, used for retrieving resources, idempotent.\n",
        "•\tPOST: Sends data in request body, used for creating resources, not idempotent.\n",
        "________________________________________\n",
        "Q9. How do you handle errors in Flask APIs?\n",
        "Use @app.errorhandler() to handle errors and return custom responses.\n",
        "Example:\n",
        "@app.errorhandler(404)\n",
        "def not_found(e):\n",
        "    return \"404 Not Found\", 404\n",
        "________________________________________\n",
        "Q10. How do you connect Flask to a SQL database?\n",
        "Use Flask-SQLAlchemy or direct database drivers. Configure the database URI, define models, and perform CRUD operations.\n",
        "________________________________________\n",
        "Q11. What is the role of Flask-SQLAlchemy?\n",
        "It is an ORM that allows Python classes to interact with database tables, avoiding raw SQL queries.\n",
        "________________________________________\n",
        "Q12. What are Flask blueprints, and how are they useful?\n",
        "Blueprints help organize Flask apps into modules for better structure in large projects.\n",
        "Code snippet:\n",
        "from flask import Blueprint\n",
        "bp = Blueprint(\"bp\", __name__)\n",
        "\n",
        "@bp.route(\"/hello\")\n",
        "def hello():\n",
        "    return \"Hello from Blueprint\"\n",
        "________________________________________\n",
        "Q13. What is the purpose of Flask’s request object?\n",
        "request gives access to HTTP request data like form inputs, JSON payloads, query parameters, and headers.\n",
        "________________________________________\n",
        "Q14. How do you create a RESTful API endpoint using Flask?\n",
        "Define a route and return JSON responses.\n",
        "Code snippet:\n",
        "@app.route(\"/api/item/<int:id>\")\n",
        "def get_item(id):\n",
        "    return {\"id\": id, \"name\": \"Sample\"}\n",
        "________________________________________\n",
        "Q15. What is the purpose of Flask’s jsonify() function?\n",
        "jsonify() converts Python dictionaries/lists into JSON format with the correct headers.\n",
        "________________________________________\n",
        "Q16. Explain Flask’s url_for() function\n",
        "url_for() generates URLs dynamically based on the function name. This avoids hardcoding URLs.\n",
        "Example:\n",
        "url_for('home')  # returns URL for home()\n",
        "________________________________________\n",
        "Q17. How does Flask handle static files (CSS, JavaScript, etc.)?\n",
        "Flask automatically serves files from the static/ folder. Access via /static/filename.\n",
        "________________________________________\n",
        "Q18. What is an API specification, and how does it help in building a Flask API?\n",
        "API specification documents the endpoints, data formats, and methods, helping developers integrate APIs correctly and ensuring consistency.\n",
        "________________________________________\n",
        "Q19. What are HTTP status codes, and why are they important in a Flask API?\n",
        "HTTP status codes indicate the result of a request:\n",
        "•\t200 OK – success\n",
        "•\t201 Created – resource created\n",
        "•\t400 Bad Request – client error\n",
        "•\t401 Unauthorized – authentication required\n",
        "•\t404 Not Found – resource missing\n",
        "•\t500 Internal Server Error – server error\n",
        "________________________________________\n",
        "Q20. How do you handle POST requests in Flask?\n",
        "Use methods=['POST'] in a route and get request data from request.form or request.json.\n",
        "Example:\n",
        "@app.route(\"/submit\", methods=[\"POST\"])\n",
        "def submit():\n",
        "    data = request.json\n",
        "    return {\"received\": data}\n",
        "________________________________________\n",
        "Q21. How would you secure a Flask API?\n",
        "•\tUse HTTPS\n",
        "•\tAuthentication (JWT, OAuth2, API keys)\n",
        "•\tInput validation\n",
        "•\tRate limiting\n",
        "•\tPrevent SQL injection (via ORM)\n",
        "________________________________________\n",
        "Q22. What is the significance of the Flask-RESTful extension?\n",
        "It simplifies building REST APIs by providing Resource classes, request parsing, and response formatting.\n",
        "________________________________________\n",
        "Q23. What is the role of Flask’s session object?\n",
        "The session object stores user-specific data (like login info) across requests. Data is signed with a secret key for security.\n",
        "Example:\n",
        "from flask import session\n",
        "session['username'] = 'Alice'\n",
        "\n"
      ],
      "metadata": {
        "id": "xNoml9uG9yvc"
      }
    },
    {
      "cell_type": "code",
      "source": [
        "!pip install flask-ngrok"
      ],
      "metadata": {
        "colab": {
          "base_uri": "https://localhost:8080/"
        },
        "id": "MdaZxZq853qm",
        "outputId": "794be6a5-848b-4b63-a77a-cd84eb9ffbae"
      },
      "execution_count": 22,
      "outputs": [
        {
          "output_type": "stream",
          "name": "stdout",
          "text": [
            "Collecting flask-ngrok\n",
            "  Downloading flask_ngrok-0.0.25-py3-none-any.whl.metadata (1.8 kB)\n",
            "Requirement already satisfied: Flask>=0.8 in /usr/local/lib/python3.12/dist-packages (from flask-ngrok) (3.1.1)\n",
            "Requirement already satisfied: requests in /usr/local/lib/python3.12/dist-packages (from flask-ngrok) (2.32.4)\n",
            "Requirement already satisfied: blinker>=1.9.0 in /usr/local/lib/python3.12/dist-packages (from Flask>=0.8->flask-ngrok) (1.9.0)\n",
            "Requirement already satisfied: click>=8.1.3 in /usr/local/lib/python3.12/dist-packages (from Flask>=0.8->flask-ngrok) (8.2.1)\n",
            "Requirement already satisfied: itsdangerous>=2.2.0 in /usr/local/lib/python3.12/dist-packages (from Flask>=0.8->flask-ngrok) (2.2.0)\n",
            "Requirement already satisfied: jinja2>=3.1.2 in /usr/local/lib/python3.12/dist-packages (from Flask>=0.8->flask-ngrok) (3.1.6)\n",
            "Requirement already satisfied: markupsafe>=2.1.1 in /usr/local/lib/python3.12/dist-packages (from Flask>=0.8->flask-ngrok) (3.0.2)\n",
            "Requirement already satisfied: werkzeug>=3.1.0 in /usr/local/lib/python3.12/dist-packages (from Flask>=0.8->flask-ngrok) (3.1.3)\n",
            "Requirement already satisfied: charset_normalizer<4,>=2 in /usr/local/lib/python3.12/dist-packages (from requests->flask-ngrok) (3.4.3)\n",
            "Requirement already satisfied: idna<4,>=2.5 in /usr/local/lib/python3.12/dist-packages (from requests->flask-ngrok) (3.10)\n",
            "Requirement already satisfied: urllib3<3,>=1.21.1 in /usr/local/lib/python3.12/dist-packages (from requests->flask-ngrok) (2.5.0)\n",
            "Requirement already satisfied: certifi>=2017.4.17 in /usr/local/lib/python3.12/dist-packages (from requests->flask-ngrok) (2025.8.3)\n",
            "Downloading flask_ngrok-0.0.25-py3-none-any.whl (3.1 kB)\n",
            "Installing collected packages: flask-ngrok\n",
            "Successfully installed flask-ngrok-0.0.25\n"
          ]
        }
      ]
    },
    {
      "cell_type": "code",
      "execution_count": 1,
      "metadata": {
        "colab": {
          "base_uri": "https://localhost:8080/"
        },
        "id": "7KMTNqTk0XEx",
        "outputId": "6387baa1-2ff1-488e-a2e2-dc30f2e4753f"
      },
      "outputs": [
        {
          "output_type": "stream",
          "name": "stdout",
          "text": [
            " * Serving Flask app '__main__'\n",
            " * Debug mode: on\n"
          ]
        },
        {
          "output_type": "stream",
          "name": "stderr",
          "text": [
            "INFO:werkzeug:\u001b[31m\u001b[1mWARNING: This is a development server. Do not use it in a production deployment. Use a production WSGI server instead.\u001b[0m\n",
            " * Running on http://127.0.0.1:5000\n",
            "INFO:werkzeug:\u001b[33mPress CTRL+C to quit\u001b[0m\n",
            "INFO:werkzeug: * Restarting with watchdog (inotify)\n"
          ]
        }
      ],
      "source": [
        "# Q1. How do you create a basic Flask application?\n",
        "from flask import Flask\n",
        "app = Flask(__name__)\n",
        "\n",
        "@app.route(\"/\")\n",
        "def home():\n",
        "    return \"Hello, Flask!\"\n",
        "\n",
        "if __name__ == \"__main__\":\n",
        "    app.run(debug=True)"
      ]
    },
    {
      "cell_type": "code",
      "source": [
        "# Q2. How do you serve static files like images or CSS in Flask?\n",
        "from flask import Flask\n",
        "app = Flask(__name__, static_url_path=\"/static\")\n",
        "\n",
        "@app.route(\"/\")\n",
        "def home():\n",
        "    return '<img src=\"/static/sample.png\" alt=\"Sample Image\">'\n",
        "\n",
        "if __name__ == \"__main__\":\n",
        "    app.run(debug=True)"
      ],
      "metadata": {
        "colab": {
          "base_uri": "https://localhost:8080/"
        },
        "id": "S5-48arK0q5p",
        "outputId": "d0943c0e-c1c2-4d00-a200-32444c9ad833"
      },
      "execution_count": 2,
      "outputs": [
        {
          "output_type": "stream",
          "name": "stdout",
          "text": [
            " * Serving Flask app '__main__'\n",
            " * Debug mode: on\n"
          ]
        },
        {
          "output_type": "stream",
          "name": "stderr",
          "text": [
            "INFO:werkzeug:\u001b[31m\u001b[1mWARNING: This is a development server. Do not use it in a production deployment. Use a production WSGI server instead.\u001b[0m\n",
            " * Running on http://127.0.0.1:5000\n",
            "INFO:werkzeug:\u001b[33mPress CTRL+C to quit\u001b[0m\n",
            "INFO:werkzeug: * Restarting with watchdog (inotify)\n"
          ]
        }
      ]
    },
    {
      "cell_type": "code",
      "source": [
        "# Q3.How do you define different routes with different HTTP methods in Flask?\n",
        "from flask import Flask, request\n",
        "app = Flask(__name__)\n",
        "\n",
        "@app.route(\"/method\", methods=[\"GET\", \"POST\"])\n",
        "def method():\n",
        "    if request.method == \"POST\":\n",
        "        return \"You used POST\"\n",
        "    return \"You used GET\"\n",
        "\n",
        "if __name__ == \"__main__\":\n",
        "    app.run(debug=True)"
      ],
      "metadata": {
        "colab": {
          "base_uri": "https://localhost:8080/"
        },
        "id": "cT3Itb4o1Ctc",
        "outputId": "8a1ae196-c8d2-40f2-9034-7aa6aefa4902"
      },
      "execution_count": 8,
      "outputs": [
        {
          "output_type": "stream",
          "name": "stdout",
          "text": [
            " * Serving Flask app '__main__'\n",
            " * Debug mode: on\n"
          ]
        },
        {
          "output_type": "stream",
          "name": "stderr",
          "text": [
            "INFO:werkzeug:\u001b[31m\u001b[1mWARNING: This is a development server. Do not use it in a production deployment. Use a production WSGI server instead.\u001b[0m\n",
            " * Running on http://127.0.0.1:5000\n",
            "INFO:werkzeug:\u001b[33mPress CTRL+C to quit\u001b[0m\n",
            "INFO:werkzeug: * Restarting with watchdog (inotify)\n"
          ]
        }
      ]
    },
    {
      "cell_type": "code",
      "source": [
        "# Q4: Render HTML templates in Flask\n",
        "from flask import Flask, render_template\n",
        "from flask import Flask, render_template\n",
        "from flask_ngrok import run_with_ngrok\n",
        "import os\n",
        "\n",
        "# Create a 'templates' directory in Colab\n",
        "os.makedirs(\"templates\", exist_ok=True)\n",
        "\n",
        "# Write an HTML template\n",
        "with open(\"templates/index.html\", \"w\") as f:\n",
        "    f.write(\"\"\"\n",
        "    <!DOCTYPE html>\n",
        "    <html>\n",
        "    <head><title>Flask Template</title></head>\n",
        "    <body>\n",
        "        <h1>Hello from Flask Template!</h1>\n",
        "    </body>\n",
        "    </html>\n",
        "    \"\"\")\n",
        "\n",
        "app = Flask(__name__)\n",
        "\n",
        "@app.route('/')\n",
        "def home():\n",
        "    return render_template(\"index.html\")\n",
        "\n",
        "# Run in Colab\n",
        "app.run(port=5000)\n"
      ],
      "metadata": {
        "colab": {
          "base_uri": "https://localhost:8080/"
        },
        "id": "72FubqY82qQb",
        "outputId": "6165d12b-30d6-45bb-d1db-88b8d07905a7"
      },
      "execution_count": 23,
      "outputs": [
        {
          "output_type": "stream",
          "name": "stdout",
          "text": [
            " * Serving Flask app '__main__'\n",
            " * Debug mode: off\n"
          ]
        },
        {
          "output_type": "stream",
          "name": "stderr",
          "text": [
            "INFO:werkzeug:\u001b[31m\u001b[1mWARNING: This is a development server. Do not use it in a production deployment. Use a production WSGI server instead.\u001b[0m\n",
            " * Running on http://127.0.0.1:5000\n",
            "INFO:werkzeug:\u001b[33mPress CTRL+C to quit\u001b[0m\n"
          ]
        }
      ]
    },
    {
      "cell_type": "code",
      "source": [
        "# Q5. How can you generate URLs for routes in Flask using url_for?\n",
        "\n",
        "from flask import Flask, url_for\n",
        "app = Flask(__name__)\n",
        "\n",
        "@app.route(\"/\")\n",
        "def home():\n",
        "    return f\"Go to {url_for('about')}\"\n",
        "\n",
        "@app.route(\"/about\")\n",
        "def about():\n",
        "    return \"About Page\"\n",
        "\n",
        "if __name__ == \"__main__\":\n",
        "    app.run(debug=True)\n"
      ],
      "metadata": {
        "colab": {
          "base_uri": "https://localhost:8080/"
        },
        "id": "XksGUcQx192W",
        "outputId": "de98d571-2080-4017-ec1b-33fdc1727372"
      },
      "execution_count": 5,
      "outputs": [
        {
          "output_type": "stream",
          "name": "stdout",
          "text": [
            " * Serving Flask app '__main__'\n",
            " * Debug mode: on\n"
          ]
        },
        {
          "output_type": "stream",
          "name": "stderr",
          "text": [
            "INFO:werkzeug:\u001b[31m\u001b[1mWARNING: This is a development server. Do not use it in a production deployment. Use a production WSGI server instead.\u001b[0m\n",
            " * Running on http://127.0.0.1:5000\n",
            "INFO:werkzeug:\u001b[33mPress CTRL+C to quit\u001b[0m\n",
            "INFO:werkzeug: * Restarting with watchdog (inotify)\n"
          ]
        }
      ]
    },
    {
      "cell_type": "code",
      "source": [
        "# Q6. How do you handle forms in Flask?\n",
        "from flask import Flask, request, render_template_string\n",
        "app = Flask(__name__)\n",
        "\n",
        "@app.route(\"/\", methods=[\"GET\", \"POST\"])\n",
        "def form():\n",
        "    if request.method == \"POST\":\n",
        "        return f\"Hello, {request.form['name']}!\"\n",
        "    return render_template_string(\"\"\"\n",
        "        <form method=\"post\">\n",
        "            <input type=\"text\" name=\"name\">\n",
        "            <input type=\"submit\">\n",
        "        </form>\n",
        "    \"\"\")\n",
        "\n",
        "if __name__ == \"__main__\":\n",
        "    app.run(debug=True)"
      ],
      "metadata": {
        "colab": {
          "base_uri": "https://localhost:8080/"
        },
        "id": "O5LwMX-N1xTg",
        "outputId": "6b78a751-e08c-4114-ec5b-0af5f7a93647"
      },
      "execution_count": 7,
      "outputs": [
        {
          "output_type": "stream",
          "name": "stdout",
          "text": [
            " * Serving Flask app '__main__'\n",
            " * Debug mode: on\n"
          ]
        },
        {
          "output_type": "stream",
          "name": "stderr",
          "text": [
            "INFO:werkzeug:\u001b[31m\u001b[1mWARNING: This is a development server. Do not use it in a production deployment. Use a production WSGI server instead.\u001b[0m\n",
            " * Running on http://127.0.0.1:5000\n",
            "INFO:werkzeug:\u001b[33mPress CTRL+C to quit\u001b[0m\n",
            "INFO:werkzeug: * Restarting with watchdog (inotify)\n"
          ]
        }
      ]
    },
    {
      "cell_type": "code",
      "source": [
        "# Q7. How can you validate form data in Flask?\n",
        "from flask import Flask, request\n",
        "app = Flask(__name__)\n",
        "\n",
        "@app.route(\"/\", methods=[\"POST\", \"GET\"])\n",
        "def validate():\n",
        "    if request.method == \"POST\":\n",
        "        name = request.form.get(\"name\")\n",
        "        if not name:\n",
        "            return \"Name is required!\"\n",
        "        return f\"Hello, {name}\"\n",
        "    return '''\n",
        "        <form method=\"post\">\n",
        "            <input name=\"name\" placeholder=\"Enter your name\">\n",
        "            <input type=\"submit\">\n",
        "        </form>\n",
        "    '''\n",
        "\n",
        "if __name__ == \"__main__\":\n",
        "    app.run(debug=True)\n"
      ],
      "metadata": {
        "colab": {
          "base_uri": "https://localhost:8080/"
        },
        "id": "tMlrCxqq3Cda",
        "outputId": "023f5768-0d03-47bd-d240-19cb4f238c74"
      },
      "execution_count": 9,
      "outputs": [
        {
          "output_type": "stream",
          "name": "stdout",
          "text": [
            " * Serving Flask app '__main__'\n",
            " * Debug mode: on\n"
          ]
        },
        {
          "output_type": "stream",
          "name": "stderr",
          "text": [
            "INFO:werkzeug:\u001b[31m\u001b[1mWARNING: This is a development server. Do not use it in a production deployment. Use a production WSGI server instead.\u001b[0m\n",
            " * Running on http://127.0.0.1:5000\n",
            "INFO:werkzeug:\u001b[33mPress CTRL+C to quit\u001b[0m\n",
            "INFO:werkzeug: * Restarting with watchdog (inotify)\n"
          ]
        }
      ]
    },
    {
      "cell_type": "code",
      "source": [
        "# Q8. How do you manage sessions in Flask?\n",
        "from flask import Flask, session, redirect, url_for, request\n",
        "app = Flask(__name__)\n",
        "app.secret_key = \"secret123\"\n",
        "\n",
        "@app.route(\"/\")\n",
        "def home():\n",
        "    return f\"Logged in as: {session.get('user', 'Guest')}\"\n",
        "\n",
        "@app.route(\"/login\", methods=[\"POST\", \"GET\"])\n",
        "def login():\n",
        "    if request.method == \"POST\":\n",
        "        session[\"user\"] = request.form[\"username\"]\n",
        "        return redirect(url_for(\"home\"))\n",
        "    return '''\n",
        "        <form method=\"post\">\n",
        "            <input name=\"username\">\n",
        "            <input type=\"submit\">\n",
        "        </form>\n",
        "    '''\n",
        "\n",
        "@app.route(\"/logout\")\n",
        "def logout():\n",
        "    session.pop(\"user\", None)\n",
        "    return redirect(url_for(\"home\"))\n",
        "\n",
        "if __name__ == \"__main__\":\n",
        "    app.run(debug=True)\n"
      ],
      "metadata": {
        "colab": {
          "base_uri": "https://localhost:8080/"
        },
        "id": "iV2vl6Wy3OrI",
        "outputId": "208f3320-13eb-4ed0-c4a0-9a39b0857025"
      },
      "execution_count": 10,
      "outputs": [
        {
          "output_type": "stream",
          "name": "stdout",
          "text": [
            " * Serving Flask app '__main__'\n",
            " * Debug mode: on\n"
          ]
        },
        {
          "output_type": "stream",
          "name": "stderr",
          "text": [
            "INFO:werkzeug:\u001b[31m\u001b[1mWARNING: This is a development server. Do not use it in a production deployment. Use a production WSGI server instead.\u001b[0m\n",
            " * Running on http://127.0.0.1:5000\n",
            "INFO:werkzeug:\u001b[33mPress CTRL+C to quit\u001b[0m\n",
            "INFO:werkzeug: * Restarting with watchdog (inotify)\n"
          ]
        }
      ]
    },
    {
      "cell_type": "code",
      "source": [
        "# Q9. How do you redirect to a different route in Flask?\n",
        "from flask import Flask, redirect, url_for\n",
        "app = Flask(__name__)\n",
        "\n",
        "@app.route(\"/\")\n",
        "def home():\n",
        "    return redirect(url_for(\"hello\"))\n",
        "\n",
        "@app.route(\"/hello\")\n",
        "def hello():\n",
        "    return \"Hello after redirect!\"\n",
        "\n",
        "if __name__ == \"__main__\":\n",
        "    app.run(debug=True)\n"
      ],
      "metadata": {
        "colab": {
          "base_uri": "https://localhost:8080/"
        },
        "id": "zwZF9TVV3be5",
        "outputId": "9df1c791-5033-492c-b075-460b01ca4acd"
      },
      "execution_count": 11,
      "outputs": [
        {
          "output_type": "stream",
          "name": "stdout",
          "text": [
            " * Serving Flask app '__main__'\n",
            " * Debug mode: on\n"
          ]
        },
        {
          "output_type": "stream",
          "name": "stderr",
          "text": [
            "INFO:werkzeug:\u001b[31m\u001b[1mWARNING: This is a development server. Do not use it in a production deployment. Use a production WSGI server instead.\u001b[0m\n",
            " * Running on http://127.0.0.1:5000\n",
            "INFO:werkzeug:\u001b[33mPress CTRL+C to quit\u001b[0m\n",
            "INFO:werkzeug: * Restarting with watchdog (inotify)\n"
          ]
        }
      ]
    },
    {
      "cell_type": "code",
      "source": [
        "# Q10. How do you handle errors in Flask (e.g., 404)?\n",
        "\n",
        "from flask import Flask\n",
        "app = Flask(__name__)\n",
        "\n",
        "@app.route(\"/\")\n",
        "def home():\n",
        "    return \"Home Page\"\n",
        "\n",
        "@app.errorhandler(404)\n",
        "def page_not_found(e):\n",
        "    return \"Oops! Page not found.\", 404\n",
        "\n",
        "if __name__ == \"__main__\":\n",
        "    app.run(debug=True)"
      ],
      "metadata": {
        "colab": {
          "base_uri": "https://localhost:8080/"
        },
        "id": "F8ndQcGO3laM",
        "outputId": "425c61bf-abcb-4753-b88f-1b697711d663"
      },
      "execution_count": 13,
      "outputs": [
        {
          "output_type": "stream",
          "name": "stdout",
          "text": [
            " * Serving Flask app '__main__'\n",
            " * Debug mode: on\n"
          ]
        },
        {
          "output_type": "stream",
          "name": "stderr",
          "text": [
            "INFO:werkzeug:\u001b[31m\u001b[1mWARNING: This is a development server. Do not use it in a production deployment. Use a production WSGI server instead.\u001b[0m\n",
            " * Running on http://127.0.0.1:5000\n",
            "INFO:werkzeug:\u001b[33mPress CTRL+C to quit\u001b[0m\n",
            "INFO:werkzeug: * Restarting with watchdog (inotify)\n"
          ]
        }
      ]
    },
    {
      "cell_type": "code",
      "source": [
        "# Q11. How do you structure a Flask app using Blueprints?\n",
        "\n",
        "# Folder structure:\n",
        "# app.py\n",
        "# user/\n",
        "#   __init__.py\n",
        "#   routes.py\n",
        "\n",
        "# user/routes.py\n",
        "from flask import Blueprint\n",
        "user_bp = Blueprint(\"user\", __name__)\n",
        "\n",
        "@user_bp.route(\"/profile\")\n",
        "def profile():\n",
        "    return \"User Profile Page\"\n",
        "\n",
        "# app.py\n",
        "from flask import Flask\n",
        "from user.routes import user_bp\n",
        "\n",
        "app = Flask(__name__)\n",
        "app.register_blueprint(user_bp, url_prefix=\"/user\")\n",
        "\n",
        "@app.route(\"/\")\n",
        "def home():\n",
        "    return \"Main Home Page\"\n",
        "\n",
        "if __name__ == \"__main__\":\n",
        "    app.run(debug=True)\n"
      ],
      "metadata": {
        "colab": {
          "base_uri": "https://localhost:8080/",
          "height": 383
        },
        "id": "4hNWXq_j3uM5",
        "outputId": "f0df8361-0848-47be-d609-404eb6ff9fce"
      },
      "execution_count": 15,
      "outputs": [
        {
          "output_type": "error",
          "ename": "ModuleNotFoundError",
          "evalue": "No module named 'user'",
          "traceback": [
            "\u001b[0;31m---------------------------------------------------------------------------\u001b[0m",
            "\u001b[0;31mModuleNotFoundError\u001b[0m                       Traceback (most recent call last)",
            "\u001b[0;32m/tmp/ipython-input-2722593556.py\u001b[0m in \u001b[0;36m<cell line: 0>\u001b[0;34m()\u001b[0m\n\u001b[1;32m     17\u001b[0m \u001b[0;31m# app.py\u001b[0m\u001b[0;34m\u001b[0m\u001b[0;34m\u001b[0m\u001b[0m\n\u001b[1;32m     18\u001b[0m \u001b[0;32mfrom\u001b[0m \u001b[0mflask\u001b[0m \u001b[0;32mimport\u001b[0m \u001b[0mFlask\u001b[0m\u001b[0;34m\u001b[0m\u001b[0;34m\u001b[0m\u001b[0m\n\u001b[0;32m---> 19\u001b[0;31m \u001b[0;32mfrom\u001b[0m \u001b[0muser\u001b[0m\u001b[0;34m.\u001b[0m\u001b[0mroutes\u001b[0m \u001b[0;32mimport\u001b[0m \u001b[0muser_bp\u001b[0m\u001b[0;34m\u001b[0m\u001b[0;34m\u001b[0m\u001b[0m\n\u001b[0m\u001b[1;32m     20\u001b[0m \u001b[0;34m\u001b[0m\u001b[0m\n\u001b[1;32m     21\u001b[0m \u001b[0mapp\u001b[0m \u001b[0;34m=\u001b[0m \u001b[0mFlask\u001b[0m\u001b[0;34m(\u001b[0m\u001b[0m__name__\u001b[0m\u001b[0;34m)\u001b[0m\u001b[0;34m\u001b[0m\u001b[0;34m\u001b[0m\u001b[0m\n",
            "\u001b[0;31mModuleNotFoundError\u001b[0m: No module named 'user'",
            "",
            "\u001b[0;31m---------------------------------------------------------------------------\u001b[0;32m\nNOTE: If your import is failing due to a missing package, you can\nmanually install dependencies using either !pip or !apt.\n\nTo view examples of installing some common dependencies, click the\n\"Open Examples\" button below.\n\u001b[0;31m---------------------------------------------------------------------------\u001b[0m\n"
          ],
          "errorDetails": {
            "actions": [
              {
                "action": "open_url",
                "actionText": "Open Examples",
                "url": "/notebooks/snippets/importing_libraries.ipynb"
              }
            ]
          }
        }
      ]
    },
    {
      "cell_type": "code",
      "source": [
        "# Q12. How do you define a custom Jinja filter in Flask?\n",
        "\n",
        "from flask import Flask, render_template_string\n",
        "app = Flask(__name__)\n",
        "\n",
        "def reverse_string(s):\n",
        "    return s[::-1]\n",
        "\n",
        "app.jinja_env.filters[\"reverse\"] = reverse_string\n",
        "\n",
        "@app.route(\"/\")\n",
        "def home():\n",
        "    return render_template_string(\"{{ 'Flask'|reverse }}\")\n",
        "\n",
        "if __name__ == \"__main__\":\n",
        "    app.run(debug=True)"
      ],
      "metadata": {
        "colab": {
          "base_uri": "https://localhost:8080/"
        },
        "id": "ZY1v54MQ4FUi",
        "outputId": "83ed809d-2c72-4d64-f1ac-8180e0d8f20a"
      },
      "execution_count": 16,
      "outputs": [
        {
          "output_type": "stream",
          "name": "stdout",
          "text": [
            " * Serving Flask app '__main__'\n",
            " * Debug mode: on\n"
          ]
        },
        {
          "output_type": "stream",
          "name": "stderr",
          "text": [
            "INFO:werkzeug:\u001b[31m\u001b[1mWARNING: This is a development server. Do not use it in a production deployment. Use a production WSGI server instead.\u001b[0m\n",
            " * Running on http://127.0.0.1:5000\n",
            "INFO:werkzeug:\u001b[33mPress CTRL+C to quit\u001b[0m\n",
            "INFO:werkzeug: * Restarting with watchdog (inotify)\n"
          ]
        }
      ]
    },
    {
      "cell_type": "code",
      "source": [
        "# Q13. How can you redirect with query parameters in Flask?\n",
        "\n",
        "from flask import Flask, redirect, url_for, request\n",
        "app = Flask(__name__)\n",
        "\n",
        "@app.route(\"/\")\n",
        "def home():\n",
        "    return redirect(url_for(\"greet\", name=\"FlaskUser\"))\n",
        "\n",
        "@app.route(\"/greet\")\n",
        "def greet():\n",
        "    name = request.args.get(\"name\", \"Guest\")\n",
        "    return f\"Hello, {name}!\"\n",
        "\n",
        "if __name__ == \"__main__\":\n",
        "    app.run(debug=True)"
      ],
      "metadata": {
        "colab": {
          "base_uri": "https://localhost:8080/"
        },
        "id": "cZ8F4l-s4SP6",
        "outputId": "aec2792a-09be-48b2-e5ab-2f3787129bc9"
      },
      "execution_count": 17,
      "outputs": [
        {
          "output_type": "stream",
          "name": "stdout",
          "text": [
            " * Serving Flask app '__main__'\n",
            " * Debug mode: on\n"
          ]
        },
        {
          "output_type": "stream",
          "name": "stderr",
          "text": [
            "INFO:werkzeug:\u001b[31m\u001b[1mWARNING: This is a development server. Do not use it in a production deployment. Use a production WSGI server instead.\u001b[0m\n",
            " * Running on http://127.0.0.1:5000\n",
            "INFO:werkzeug:\u001b[33mPress CTRL+C to quit\u001b[0m\n",
            "INFO:werkzeug: * Restarting with watchdog (inotify)\n"
          ]
        }
      ]
    },
    {
      "cell_type": "code",
      "source": [
        "# Q14. How do you return JSON responses in Flask?\n",
        "\n",
        "from flask import Flask, jsonify\n",
        "app = Flask(__name__)\n",
        "\n",
        "@app.route(\"/api/data\")\n",
        "def get_data():\n",
        "    return jsonify({\"name\": \"Flask\", \"version\": 2.0})\n",
        "\n",
        "if __name__ == \"__main__\":\n",
        "    app.run(debug=True)"
      ],
      "metadata": {
        "colab": {
          "base_uri": "https://localhost:8080/"
        },
        "id": "PDO0k_Jy4adk",
        "outputId": "38275626-3579-4f17-d715-08135bd94c6c"
      },
      "execution_count": 18,
      "outputs": [
        {
          "output_type": "stream",
          "name": "stdout",
          "text": [
            " * Serving Flask app '__main__'\n",
            " * Debug mode: on\n"
          ]
        },
        {
          "output_type": "stream",
          "name": "stderr",
          "text": [
            "INFO:werkzeug:\u001b[31m\u001b[1mWARNING: This is a development server. Do not use it in a production deployment. Use a production WSGI server instead.\u001b[0m\n",
            " * Running on http://127.0.0.1:5000\n",
            "INFO:werkzeug:\u001b[33mPress CTRL+C to quit\u001b[0m\n",
            "INFO:werkzeug: * Restarting with watchdog (inotify)\n"
          ]
        }
      ]
    },
    {
      "cell_type": "code",
      "source": [
        "# Q15. How do you capture URL parameters in Flask?\n",
        "from flask import Flask\n",
        "app = Flask(__name__)\n",
        "\n",
        "@app.route(\"/user/<username>\")\n",
        "def profile(username):\n",
        "    return f\"Hello, {username}\"\n",
        "\n",
        "@app.route(\"/post/<int:post_id>\")\n",
        "def post(post_id):\n",
        "    return f\"Post ID: {post_id}\"\n",
        "\n",
        "if __name__ == \"__main__\":\n",
        "    app.run(debug=True)"
      ],
      "metadata": {
        "colab": {
          "base_uri": "https://localhost:8080/"
        },
        "id": "djYnyE0F4kMu",
        "outputId": "039c9d4e-76c2-445f-b060-d21408f53068"
      },
      "execution_count": 19,
      "outputs": [
        {
          "output_type": "stream",
          "name": "stdout",
          "text": [
            " * Serving Flask app '__main__'\n",
            " * Debug mode: on\n"
          ]
        },
        {
          "output_type": "stream",
          "name": "stderr",
          "text": [
            "INFO:werkzeug:\u001b[31m\u001b[1mWARNING: This is a development server. Do not use it in a production deployment. Use a production WSGI server instead.\u001b[0m\n",
            " * Running on http://127.0.0.1:5000\n",
            "INFO:werkzeug:\u001b[33mPress CTRL+C to quit\u001b[0m\n",
            "INFO:werkzeug: * Restarting with watchdog (inotify)\n"
          ]
        }
      ]
    }
  ]
}