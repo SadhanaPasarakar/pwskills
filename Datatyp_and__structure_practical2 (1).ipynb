{
  "cells": [
    {
      "cell_type": "code",
      "execution_count": null,
      "metadata": {
        "id": "DUGT4aHdEFCz"
      },
      "outputs": [],
      "source": []
    },
    {
      "cell_type": "markdown",
      "source": [
        "1. What are data structures, and why are they important?\n",
        "Answer: Data structures are ways of organizing and storing data so that it can be accessed and modified efficiently. They are important because they help manage large amounts of data, support efficient algorithms, and enable code reuse and modularity.\n",
        "\n",
        "2. Explain the difference between mutable and immutable data types with examples.\n",
        "Answer:\n",
        "•\tMutable data types can be changed after creation. Example: list, dict, set.\n",
        "•\tmy_list = [1, 2, 3]\n",
        "•\tmy_list[0] = 10  # List is changed\n",
        "•\tmy_list = [10, 2, 3]\n",
        "\n",
        "•\tImmutable data types cannot be changed once created. Example: int, str, tuple.\n",
        "•\tmy_str = \"hello\"\n",
        "•\tmy_str[0] = 'H'  # This will cause an error\n",
        "\n",
        "3. What are the main differences between lists and tuples in Python?\n",
        "Answer:\n",
        "•\tLists are mutable, while tuples are immutable.\n",
        "•\tLists use square brackets [], tuples use parentheses ().\n",
        "•\tTuples are generally faster and use less memory than lists.\n",
        "\n",
        "4. Describe how dictionaries store data.\n",
        "Answer: Dictionaries store data in key-value pairs. Each key is unique, and it maps to a value.\n",
        "\n",
        "5. Why might you use a set instead of a list in Python?\n",
        "Answer: Sets are used when you want to store unique values and don’t care about the order. They are also faster than lists for checking membership using the in keyword.\n",
        "\n",
        "6. What is a string in Python, and how is it different from a list?\n",
        "Answer: A string is a sequence of characters and is immutable. A list is a sequence of elements and is mutable. Also, string elements must be characters, while list elements can be of any data type.\n",
        "\n",
        "7. How do tuples ensure data integrity in Python?\n",
        "Answer: Since tuples are immutable, their values cannot be altered after creation, which helps maintain the integrity of fixed data, like coordinates or configuration settings.\n",
        "\n",
        "8. What is a hash table, and how does it relate to dictionaries in Python?\n",
        "Answer: A hash table is a data structure that maps keys to values using a hash function. Python dictionaries are implemented using hash tables, which allows for average O(1) time complexity for lookups.\n",
        "\n",
        "9. Can lists contain different data types in Python?\n",
        "Answer: Yes, Python lists can contain elements of different data types. For example:\n",
        "my_list = [1, \"apple\", 3.14, True]\n",
        "\n",
        "10. Explain why strings are immutable in Python.\n",
        "Answer: Strings are immutable to ensure thread safety, enable hash-based structures (like dictionaries), and allow internal optimizations like string interning for memory efficiency.\n",
        "\n",
        "11. What advantages do dictionaries offer over lists for certain tasks?\n",
        "Answer: Dictionaries allow fast lookup using keys (O(1) average time), while lists require linear time (O(n)) for searching. Dictionaries are ideal for when you want to associate values with unique identifiers.\n",
        "\n",
        "12. Describe a scenario where using a tuple would be preferable over a list.\n",
        "Answer: Use a tuple when you want to store fixed, unchangeable data, such as coordinates ((x, y)) or days of the week. Tuples can also be used as keys in dictionaries, while lists cannot.\n",
        "\n",
        "13. How do sets handle duplicate values in Python?\n",
        "Answer: Sets automatically remove duplicates. If you add a duplicate value, it will be ignored.\n",
        "s = {1, 2, 2, 3}\n",
        "print(s)  # Output: {1, 2, 3}\n",
        "\n",
        "14. How does the “in” keyword work differently for lists and dictionaries?\n",
        "Answer:\n",
        "•\tFor lists, in checks if a value exists in the list.\n",
        "•\tFor dictionaries, in checks if a key exists (not the value).\n",
        "\n",
        "15. Can you modify the elements of a tuple? Explain why or why not.\n",
        "Answer: No, tuples are immutable. Once created, their elements cannot be modified. Attempting to do so will raise a TypeError.\n",
        "\n",
        "16. What is a nested dictionary, and give an example of its use case.\n",
        "Answer: A nested dictionary is a dictionary within a dictionary. It's useful for storing hierarchical data.\n",
        "Example:\n",
        "student = {\n",
        "  'name': 'Sadhana',\n",
        "  'grades': {'math': 90, 'science': 88}\n",
        "}\n",
        "\n",
        "17. Describe the time complexity of accessing elements in a dictionary.\n",
        "Answer: The average time complexity for accessing elements in a dictionary is O(1) due to hash table implementation.\n",
        "\n",
        "18. In what situations are lists preferred over dictionaries?\n",
        "Answer: Lists are preferred when the order of elements matters or when you only need to store values without associating them with specific keys.\n",
        "\n",
        "19. Why are dictionaries considered unordered, and how does that affect data retrieval?\n",
        "Answer: In versions before Python 3.7, dictionaries didn’t maintain insertion order. From Python 3.7+, they do. However, their primary purpose is key-based access, not sequence access like lists, so retrieval by position isn’t possible.\n",
        "\n",
        "20. Explain the difference between a list and a dictionary in terms of data retrieval.\n",
        "Answer:\n",
        "•\tLists retrieve data by index (position).\n",
        "•\tDictionaries retrieve data by key (name/identifier).\n",
        "Dictionaries are faster for lookup by key, while lists are simpler for ordered data.\n",
        "\n",
        "\n"
      ],
      "metadata": {
        "id": "qGs9fshd1-BW"
      }
    },
    {
      "cell_type": "markdown",
      "metadata": {
        "id": "yJL4M4VLEj6y"
      },
      "source": []
    },
    {
      "cell_type": "code",
      "execution_count": null,
      "metadata": {
        "colab": {
          "base_uri": "https://localhost:8080/"
        },
        "id": "_J137a2YEpyH",
        "outputId": "019124de-d6ba-419f-a414-05a76e4de2f6"
      },
      "outputs": [
        {
          "name": "stdout",
          "output_type": "stream",
          "text": [
            "My name is : Sadhana\n"
          ]
        }
      ],
      "source": [
        "# 1. Write a code to create a string with your name and print it\n",
        "Name = \"Sadhana\"\n",
        "print(f'My name is : {Name}')\n"
      ]
    },
    {
      "cell_type": "code",
      "execution_count": null,
      "metadata": {
        "colab": {
          "base_uri": "https://localhost:8080/"
        },
        "id": "x-D59SkaFDPa",
        "outputId": "e8505d05-314f-4abf-98fb-0d97be62c974"
      },
      "outputs": [
        {
          "name": "stdout",
          "output_type": "stream",
          "text": [
            "length of string Hello world! is: 12\n",
            "length of string Hello world! is: 12\n"
          ]
        }
      ],
      "source": [
        "# 2. Write a code to find the length of the string \"Hello World\"\n",
        "string = \"Hello world!\"\n",
        "print(f'length of string Hello world! is: {len(string)}')\n",
        "\n",
        "# we can use for loop\n",
        "count =0\n",
        "for i in string:\n",
        "  count+=1\n",
        "print(f'length of string Hello world! is: {count}')"
      ]
    },
    {
      "cell_type": "code",
      "execution_count": null,
      "metadata": {
        "colab": {
          "base_uri": "https://localhost:8080/"
        },
        "id": "2DDPKJODF2wo",
        "outputId": "a6084194-bab9-4f8b-ce40-afda6d66cc85"
      },
      "outputs": [
        {
          "name": "stdout",
          "output_type": "stream",
          "text": [
            "Pyt\n"
          ]
        }
      ],
      "source": [
        "#  3. Write a code to slice the first 3 characters from the string \"Python Programming\"\n",
        "string = \"Python Programming\"\n",
        "\n",
        "print(string[0:3])"
      ]
    },
    {
      "cell_type": "code",
      "execution_count": null,
      "metadata": {
        "colab": {
          "base_uri": "https://localhost:8080/"
        },
        "id": "Hawtx_RrGH4U",
        "outputId": "2855e8f5-3f75-4280-99f7-a1d997727c9b"
      },
      "outputs": [
        {
          "name": "stdout",
          "output_type": "stream",
          "text": [
            "HELLO\n",
            "HeLLO\n"
          ]
        }
      ],
      "source": [
        "# 4 Write a code to convert the string \"hello\" to uppercase\n",
        "string = \"hello\"\n",
        "print(string.upper())\n",
        "print(string.swapcase()) ## It changes lower letter to upper and upper letter to lower"
      ]
    },
    {
      "cell_type": "code",
      "execution_count": null,
      "metadata": {
        "id": "WA7pgmpgHLof"
      },
      "outputs": [],
      "source": []
    },
    {
      "cell_type": "markdown",
      "metadata": {
        "id": "eq0g6qQKHMKJ"
      },
      "source": []
    },
    {
      "cell_type": "code",
      "execution_count": null,
      "metadata": {
        "colab": {
          "base_uri": "https://localhost:8080/"
        },
        "id": "YofQyUG6HFFV",
        "outputId": "c4015250-b1b4-46bf-8282-b08e85ada327"
      },
      "outputs": [
        {
          "name": "stdout",
          "output_type": "stream",
          "text": [
            "I like orange\n",
            "I like apple\n"
          ]
        }
      ],
      "source": [
        "# 5. Write a code to replace the word \"apple\" with \"orange\" in the string \"I like apple\"\n",
        "\n",
        "string = 'I like apple'\n",
        "print(string.replace('apple', 'orange'))\n",
        "print(string) ## As string is immutable original string will not change\n"
      ]
    },
    {
      "cell_type": "code",
      "execution_count": null,
      "metadata": {
        "colab": {
          "base_uri": "https://localhost:8080/"
        },
        "id": "-SbB-KrYHrwo",
        "outputId": "ff9165ed-6900-44d9-b6ca-2509541bca71"
      },
      "outputs": [
        {
          "name": "stdout",
          "output_type": "stream",
          "text": [
            "[1, 2, 3, 4, 5]\n"
          ]
        }
      ],
      "source": [
        "# 6 Write a code to create a list with numbers 1 to 5 and print it\n",
        "list = []\n",
        "for i in range (1,6):\n",
        "  list.append(i)\n",
        "print(list)\n"
      ]
    },
    {
      "cell_type": "code",
      "execution_count": null,
      "metadata": {
        "colab": {
          "base_uri": "https://localhost:8080/"
        },
        "id": "w_VyJLIxJxVl",
        "outputId": "caff5530-59be-49a3-d356-6f48ea85da1c"
      },
      "outputs": [
        {
          "name": "stdout",
          "output_type": "stream",
          "text": [
            "[1, 2, 3, 4, 10]\n"
          ]
        }
      ],
      "source": [
        "# '7. Write a code to append the number 10 to the list [1, 2, 3, 4]\n",
        "\n",
        "list = [1,2,3,4]\n",
        "list.append(10)\n",
        "print(list)\n"
      ]
    },
    {
      "cell_type": "code",
      "execution_count": null,
      "metadata": {
        "colab": {
          "base_uri": "https://localhost:8080/"
        },
        "id": "6VbyvXx7K75f",
        "outputId": "9b9f204b-3a4f-40da-af06-a44df68d70a6"
      },
      "outputs": [
        {
          "name": "stdout",
          "output_type": "stream",
          "text": [
            "[1, 2, 4, 5]\n"
          ]
        }
      ],
      "source": [
        "# 8. Write a code to remove the number 3 from the list [1, 2, 3, 4, 5]\n",
        "list = [1, 2, 3, 4, 5]\n",
        "list.remove(3)\n",
        "print(list)"
      ]
    },
    {
      "cell_type": "code",
      "execution_count": null,
      "metadata": {
        "colab": {
          "base_uri": "https://localhost:8080/"
        },
        "id": "IyRsA0IaLaHx",
        "outputId": "ae9d514e-fee4-4082-c7a4-16dd32e021ed"
      },
      "outputs": [
        {
          "name": "stdout",
          "output_type": "stream",
          "text": [
            "b\n"
          ]
        }
      ],
      "source": [
        "# 9 Write a code to access the second element in the list ['a', 'b', 'c', 'd']\n",
        "list = ['a', 'b', 'c', 'd']\n",
        "print(list[1])\n",
        "\n"
      ]
    },
    {
      "cell_type": "code",
      "execution_count": null,
      "metadata": {
        "colab": {
          "base_uri": "https://localhost:8080/"
        },
        "id": "2LlR3WuuFhNF",
        "outputId": "50f1ca8d-6f28-4c67-c40b-2a3877a2ee71"
      },
      "outputs": [
        {
          "name": "stdout",
          "output_type": "stream",
          "text": [
            "[50, 40, 30, 20, 10]\n",
            "[50, 40, 30, 20, 10]\n",
            "[50, 40, 30, 20, 10]\n",
            "[50, 40, 30, 20, 10]\n"
          ]
        }
      ],
      "source": [
        "# 10 Write a code to reverse the list [10, 20, 30, 40, 50].\n",
        "list = [10, 20, 30, 40, 50]\n",
        "reversed_list=[]\n",
        "for i in range(len(list)-1,-1,-1):\n",
        "  reversed_list.append(list[i])\n",
        "\n",
        "  # list.append\n",
        "print(reversed_list)\n",
        "\n",
        "# we can also use reversed function to reverse the list\n",
        "\n",
        "list = [10, 20, 30, 40, 50]\n",
        "reversed_list=[]\n",
        "list.reverse()\n",
        "reversed_list = list\n",
        "print(reversed_list)\n",
        "\n",
        "# we can also use backward slicing to reverse the list\n",
        "\n",
        "list = [10, 20, 30, 40, 50]\n",
        "reversed_list=[]\n",
        "reversed_list = list[::-1]\n",
        "print(reversed_list)"
      ]
    },
    {
      "cell_type": "code",
      "execution_count": null,
      "metadata": {
        "colab": {
          "base_uri": "https://localhost:8080/"
        },
        "id": "_UuO4dbfiLTr",
        "outputId": "c1a95c19-ab3f-4064-a924-ba946584d6f6"
      },
      "outputs": [
        {
          "name": "stdout",
          "output_type": "stream",
          "text": [
            "(100, 200, 300)\n"
          ]
        }
      ],
      "source": [
        "# (# 11. Write a code to create a tuple with the elements 100, 200, 300 and print it.\n",
        "tuple = (100,200,300)\n",
        "print(tuple)"
      ]
    },
    {
      "cell_type": "code",
      "execution_count": null,
      "metadata": {
        "colab": {
          "base_uri": "https://localhost:8080/"
        },
        "id": "WZsDFUgHjiVq",
        "outputId": "5e02b734-525c-4edf-80bb-1e864b17989b"
      },
      "outputs": [
        {
          "name": "stdout",
          "output_type": "stream",
          "text": [
            "blue\n"
          ]
        }
      ],
      "source": [
        "# 12. Write a code to access the second-to-last element of the tuple ('red', 'green', 'blue', 'yellow').\n",
        "tuple = ('red', 'green', 'blue', 'yellow')\n",
        "\n",
        "print(tuple[len(tuple)-2])"
      ]
    },
    {
      "cell_type": "code",
      "execution_count": null,
      "metadata": {
        "colab": {
          "base_uri": "https://localhost:8080/"
        },
        "id": "0GF-6oLqkJ43",
        "outputId": "4ac6e1f9-0ad7-42ba-ec64-81c8f4b481ab"
      },
      "outputs": [
        {
          "name": "stdout",
          "output_type": "stream",
          "text": [
            "5\n",
            "minimum number in (10, 20, 5, 15) is 5\n"
          ]
        }
      ],
      "source": [
        "# 13. Write a code to find the minimum number in the tuple (10, 20, 5, 15).\n",
        "\n",
        "tuple = (10, 20, 5, 15)\n",
        "print(min(tuple))\n",
        "\n",
        "\n",
        "# # we can also do it using for loop\n",
        "min =tuple[0]\n",
        "for i in range(1,len(tuple)):\n",
        "    if tuple[i]<min:\n",
        "      min = tuple[i]\n",
        "print((f'minimum number in {tuple} is {min}'))"
      ]
    },
    {
      "cell_type": "code",
      "execution_count": null,
      "metadata": {
        "colab": {
          "base_uri": "https://localhost:8080/"
        },
        "id": "kt-iQ87ZqeQc",
        "outputId": "ac23fd4e-efd9-4c0a-cc56-41e84d586fef"
      },
      "outputs": [
        {
          "name": "stdout",
          "output_type": "stream",
          "text": [
            "index of \"cat\" is 1\n"
          ]
        }
      ],
      "source": [
        "# 14. Write a code to find the index of the element \"cat\" in the tuple ('dog', 'cat', 'rabbit').\n",
        "tuple = ('dog', 'cat', 'rabbit')\n",
        "for i in range(0,len(tuple)-1):\n",
        "  if tuple[i] == 'cat':\n",
        "    print(f'index of \"cat\" is {i}')\n"
      ]
    },
    {
      "cell_type": "code",
      "execution_count": null,
      "metadata": {
        "colab": {
          "base_uri": "https://localhost:8080/"
        },
        "id": "Y1_NMtCti-SK",
        "outputId": "3c44d112-98db-48b7-cad7-b91b43cb09ac"
      },
      "outputs": [
        {
          "name": "stdout",
          "output_type": "stream",
          "text": [
            "kiwi is not there in ('banana', 'mango', 'kiwi', 'apple')\n"
          ]
        }
      ],
      "source": [
        "# 15. Write a code to create a tuple containing three different fruits and check if \"kiwi\" is in it.\n",
        "\n",
        "fruits= ('banana', 'mango', 'kiwi', 'apple')\n",
        "\n",
        "if 'kiwi' in fruits:\n",
        "    print(f'kiwi is there in {fruits}')\n",
        "else:\n",
        "    print(f'kiwi is not there in {fruits}')\n"
      ]
    },
    {
      "cell_type": "code",
      "execution_count": null,
      "metadata": {
        "colab": {
          "base_uri": "https://localhost:8080/"
        },
        "id": "U2uoF79-tqVS",
        "outputId": "75dbb506-195f-4654-e30b-703de5d08428"
      },
      "outputs": [
        {
          "name": "stdout",
          "output_type": "stream",
          "text": [
            "{'a', 'c', 'b'}\n"
          ]
        }
      ],
      "source": [
        "# 16. Write a code to create a set with the elements 'a', 'b', 'c' and print it.\n",
        "\n",
        "S = {'a', 'b', 'c'}\n",
        "print(S)"
      ]
    },
    {
      "cell_type": "code",
      "execution_count": null,
      "metadata": {
        "colab": {
          "base_uri": "https://localhost:8080/"
        },
        "id": "ml5nZayOt_c0",
        "outputId": "1cd368dc-f0e8-4f71-9434-4effd62c9ccc"
      },
      "outputs": [
        {
          "output_type": "stream",
          "name": "stdout",
          "text": [
            "set()\n"
          ]
        }
      ],
      "source": [
        "# 17. Write a code to clear all elements from the set {1, 2, 3, 4, 5}.\n",
        "\n",
        "S = {1, 2, 3, 4, 5}\n",
        "S.clear()\n",
        "print(S)\n",
        "\n",
        "\n"
      ]
    },
    {
      "cell_type": "code",
      "execution_count": null,
      "metadata": {
        "colab": {
          "base_uri": "https://localhost:8080/"
        },
        "id": "envIu94quesR",
        "outputId": "59920b48-1af6-4aed-bd49-78108572b26b"
      },
      "outputs": [
        {
          "name": "stdout",
          "output_type": "stream",
          "text": [
            "{1, 2, 3}\n"
          ]
        }
      ],
      "source": [
        "# 18. Write a code to remove the element 4 from the set {1, 2, 3, 4}.\n",
        "\n",
        "S = {1, 2, 3, 4}\n",
        "\n",
        "S.remove(4)\n",
        "print(S)"
      ]
    },
    {
      "cell_type": "code",
      "execution_count": null,
      "metadata": {
        "colab": {
          "base_uri": "https://localhost:8080/"
        },
        "id": "Al6KuhILWr8y",
        "outputId": "12d33106-e82e-4dee-928a-0c4694183b03"
      },
      "outputs": [
        {
          "output_type": "stream",
          "name": "stdout",
          "text": [
            "intersection of two sets is {1, 2, 3, 4, 5}\n"
          ]
        },
        {
          "output_type": "execute_result",
          "data": {
            "text/plain": [
              "{1, 2, 3, 4, 5}"
            ]
          },
          "metadata": {},
          "execution_count": 3
        }
      ],
      "source": [
        "# 19. Write a code to find the union of two sets {1, 2, 3} and {3, 4, 5}.\n",
        "\n",
        "S1 ={1,2,3}\n",
        "S2 = {3,4,5}\n",
        "Union_of_sets = S1|S2\n",
        "print(f'intersection of two sets is {Union_of_sets}')\n",
        "S1.union(S2) ## can also use this method"
      ]
    },
    {
      "cell_type": "code",
      "execution_count": null,
      "metadata": {
        "colab": {
          "base_uri": "https://localhost:8080/"
        },
        "id": "xfvojc4hYAk3",
        "outputId": "4808076d-c6a4-44e1-d0f5-f7c90e3bbcd9"
      },
      "outputs": [
        {
          "output_type": "stream",
          "name": "stdout",
          "text": [
            "intersection of two sets is {2, 3}\n"
          ]
        },
        {
          "output_type": "execute_result",
          "data": {
            "text/plain": [
              "{2, 3}"
            ]
          },
          "metadata": {},
          "execution_count": 4
        }
      ],
      "source": [
        "# 20. Write a code to find the intersection of two sets {1, 2, 3} and {2, 3, 4}.\n",
        "S1 ={1, 2, 3}\n",
        "S2 = {2, 3, 4}\n",
        "intersection_of_sets = S1&S2\n",
        "print(f'intersection of two sets is {intersection_of_sets}')\n",
        "S1.intersection(S2) ## can also use this method"
      ]
    },
    {
      "cell_type": "code",
      "execution_count": null,
      "metadata": {
        "colab": {
          "base_uri": "https://localhost:8080/"
        },
        "id": "bTzceptPYk0W",
        "outputId": "0c687dec-92e8-4a00-8781-5f4d898fd85f"
      },
      "outputs": [
        {
          "name": "stdout",
          "output_type": "stream",
          "text": [
            "{'name': 'Sadhana', 'age': 30, 'city': 'Pune'}\n"
          ]
        }
      ],
      "source": [
        "# 21. Write a code to create a dictionary with the keys \"name\", \"age\", and \"city\", and print it.\n",
        "\n",
        "d= {'name': 'Sadhana', 'age': 30, 'city': 'Pune'}\n",
        "\n",
        "print(d)"
      ]
    },
    {
      "cell_type": "code",
      "execution_count": null,
      "metadata": {
        "colab": {
          "base_uri": "https://localhost:8080/"
        },
        "id": "dBxmhfnkaCr9",
        "outputId": "26d980e6-6fde-4e8b-cbfa-565c10bb6490"
      },
      "outputs": [
        {
          "output_type": "stream",
          "name": "stdout",
          "text": [
            "{'name': 'John', 'age': 25, 'Country': 'USA'}\n",
            "{'name': 'John', 'age': 25, 'Country': 'USA'}\n"
          ]
        }
      ],
      "source": [
        "# 22. Write a code to add a new key-value pair \"country\": \"USA\" to the dictionary {'name': 'John', 'age': 25}.\n",
        "d = {'name': 'John', 'age': 25}\n",
        "d1 = {'Country': 'USA'}\n",
        "d.update(d1)\n",
        "print(d)\n",
        "\n",
        "# another method\n",
        "d = {'name': 'John', 'age': 25}\n",
        "d['Country']= 'USA'\n",
        "print(d)\n"
      ]
    },
    {
      "cell_type": "code",
      "execution_count": null,
      "metadata": {
        "colab": {
          "base_uri": "https://localhost:8080/"
        },
        "id": "Dd6mjRhdfM2I",
        "outputId": "e22ca900-c0bc-4bc6-9476-e16640cfb838"
      },
      "outputs": [
        {
          "name": "stdout",
          "output_type": "stream",
          "text": [
            "value associated to key \"name\" is : Alice\n"
          ]
        }
      ],
      "source": [
        "# 23. Write a code to access the value associated with the key \"name\" in the dictionary {'name': 'Alice', 'age': 30}.\n",
        "\n",
        "d= {'name': 'Alice', 'age': 30}\n",
        "print(f'value associated to key \"name\" is : {d[\"name\"]}')\n",
        "\n",
        "\n"
      ]
    },
    {
      "cell_type": "code",
      "execution_count": null,
      "metadata": {
        "colab": {
          "base_uri": "https://localhost:8080/"
        },
        "id": "m_8TZoJxgtK0",
        "outputId": "4ba3e3a7-df26-4bbd-c10d-a1b5d1dfbc9d"
      },
      "outputs": [
        {
          "name": "stdout",
          "output_type": "stream",
          "text": [
            "dictionary after removing the key age and its value is {'name': 'Bob', 'city': 'New York'}\n"
          ]
        }
      ],
      "source": [
        "# 24. Write a code to remove the key \"age\" from the dictionary {'name': 'Bob', 'age': 22, 'city': 'New York'}.\n",
        "d = {'name': 'Bob', 'age': 22, 'city': 'New York'}\n",
        "d.pop('age')\n",
        "print(f'dictionary after removing the key age and its value is {d}')"
      ]
    },
    {
      "cell_type": "code",
      "execution_count": null,
      "metadata": {
        "colab": {
          "base_uri": "https://localhost:8080/"
        },
        "id": "BtVn8VzshDoA",
        "outputId": "e91dce4d-4679-4b3e-af62-fe8b44583a28"
      },
      "outputs": [
        {
          "name": "stdout",
          "output_type": "stream",
          "text": [
            "city is there in dictionary\n"
          ]
        }
      ],
      "source": [
        "# 25. Write a code to check if the key \"city\" exists in the dictionary {'name': 'Alice', 'city': 'Paris'}.\n",
        "d = {'name': 'Alice', 'city': 'Paris'}\n",
        "for i in d:\n",
        "  if i == 'city':\n",
        "    print('city is there in dictionary')\n",
        "    break\n",
        "else:\n",
        "    print('city is not there in dictionary')\n",
        "\n"
      ]
    },
    {
      "cell_type": "code",
      "execution_count": null,
      "metadata": {
        "colab": {
          "base_uri": "https://localhost:8080/"
        },
        "id": "oqm2g97ziObh",
        "outputId": "67e6b5ad-f4dc-4aa3-f284-d0e5776f2f13"
      },
      "outputs": [
        {
          "name": "stdout",
          "output_type": "stream",
          "text": [
            "list is  : [3, 2, 'sadhana', 2.4]\n",
            "tuple is  : (3, 2, 'sadhana', 2.4)\n",
            "dictionary is  : {'name': 'Sadhana', 'age': 30, 'city': 'pune'}\n"
          ]
        }
      ],
      "source": [
        "# 26. Write a code to create a list, a tuple, and a dictionary, and print them all.\n",
        "\n",
        "L = [3,2,'sadhana', 2.4]\n",
        "T = (3,2,'sadhana', 2.4)\n",
        "D  = {'name':'Sadhana','age':30,'city':'pune'}\n",
        "\n",
        "print(f'list is  : {L}')\n",
        "print(f'tuple is  : {T}')\n",
        "print(f'dictionary is  : {D}')"
      ]
    },
    {
      "cell_type": "code",
      "execution_count": null,
      "metadata": {
        "colab": {
          "base_uri": "https://localhost:8080/"
        },
        "id": "o-FtV4Blb-7h",
        "outputId": "9501113a-e6be-4da9-b9c1-c06b34535184"
      },
      "outputs": [
        {
          "output_type": "stream",
          "name": "stdout",
          "text": [
            "[4, 5, 19, 42, 47]\n"
          ]
        }
      ],
      "source": [
        "# 27. Write a code to create a list of 5 random numbers between 1 and 100, sort it in ascending order, and print the\n",
        "# result.(replaced)\n",
        "import random\n",
        "\n",
        "\n",
        "L=[]\n",
        "for i in range(1,6):\n",
        "  num = random.randint(1, 100)\n",
        "  L.append(num)\n",
        "  L.sort()\n",
        "print(L)\n"
      ]
    },
    {
      "cell_type": "code",
      "source": [
        "# 28. Write a code to create a list with strings and print the element at the third index.\n",
        "L = ['Sadhana','Smita', 'Suchita', 'Surekha', 'Santosh']\n",
        "print(f'element at 3rd index is {L[3]}')"
      ],
      "metadata": {
        "colab": {
          "base_uri": "https://localhost:8080/"
        },
        "id": "Nc0cow1CIxjz",
        "outputId": "6527153a-0cb1-435d-90ca-6c00e0893da6"
      },
      "execution_count": null,
      "outputs": [
        {
          "output_type": "stream",
          "name": "stdout",
          "text": [
            "element at 3rd index is Surekha\n"
          ]
        }
      ]
    },
    {
      "cell_type": "code",
      "source": [
        "# 29. Write a code to combine two dictionaries into one and print the result.\n",
        "\n",
        "D1 = {'name':'sadhana', 'class':5}\n",
        "D2 ={'div': 'B', 'roll_no': 11}\n",
        "\n",
        "D1.update(D2) ## update function to add D2 in D1\n",
        "print(D1)"
      ],
      "metadata": {
        "colab": {
          "base_uri": "https://localhost:8080/"
        },
        "id": "nwL5xEhshJ8w",
        "outputId": "a33c626a-30fb-40bc-fee4-d9bef0af9106"
      },
      "execution_count": null,
      "outputs": [
        {
          "output_type": "stream",
          "name": "stdout",
          "text": [
            "{'name': 'sadhana', 'class': 5, 'div': 'B', 'roll_no': 11}\n"
          ]
        }
      ]
    },
    {
      "cell_type": "code",
      "source": [
        "# 30. Write a code to convert a list of strings into a set.\n",
        "L = ['Sadhana','Smita', 'Suchita', 'Surekha', 'Santosh', 'Smita', 'Santosh', 'sadhana']\n",
        "\n",
        "S = set(L)\n",
        "print(S)\n"
      ],
      "metadata": {
        "colab": {
          "base_uri": "https://localhost:8080/"
        },
        "id": "da8CxYVGitVE",
        "outputId": "4b59877a-8960-489f-dd60-6c592bef72b2"
      },
      "execution_count": 1,
      "outputs": [
        {
          "output_type": "stream",
          "name": "stdout",
          "text": [
            "{'Surekha', 'sadhana', 'Santosh', 'Smita', 'Suchita', 'Sadhana'}\n"
          ]
        }
      ]
    }
  ],
  "metadata": {
    "colab": {
      "provenance": []
    },
    "kernelspec": {
      "display_name": "Python 3",
      "name": "python3"
    },
    "language_info": {
      "name": "python"
    }
  },
  "nbformat": 4,
  "nbformat_minor": 0
}