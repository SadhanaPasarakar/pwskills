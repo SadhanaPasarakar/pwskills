{
  "nbformat": 4,
  "nbformat_minor": 0,
  "metadata": {
    "colab": {
      "provenance": []
    },
    "kernelspec": {
      "name": "python3",
      "display_name": "Python 3"
    },
    "language_info": {
      "name": "python"
    }
  },
  "cells": [
    {
      "cell_type": "code",
      "execution_count": 10,
      "metadata": {
        "id": "8Dtj4FHq--7t"
      },
      "outputs": [],
      "source": []
    },
    {
      "cell_type": "markdown",
      "source": [
        "1. What is Python, and why is it popular?\n",
        "\n",
        "Python is a high-level, easy-to-read programming language used for building websites, apps, automation tools, AI, and more.\n",
        "\n",
        "It is popular because It has simple syntax, large community support, runs on many platforms, and is used in many fields.\n",
        "\n",
        "2. What is an interpreter in Python?\n",
        "\n",
        "An interpreter is a program that reads and runs Python code line by line. It helps to find and fix errors quickly.\n",
        "\n",
        "3. What are pre-defined keywords in Python?\n",
        "\n",
        "Keywords are special words that Python uses for its own purpose, like if, else, while, for, True, None, etc.\n",
        "\n",
        "4. Can keywords be used as variable names?\n",
        "\n",
        "No, keywords cannot be used as variable names because they are reserved for specific tasks in Python.\n",
        "\n",
        "5. What is mutability in Python?\n",
        "\n",
        "Mutability means whether a value can be changed after it is created. If it can be changed, it is mutable; if not, it’s immutable.\n",
        "\n",
        "6. Why are lists mutable, but tuples are immutable?\n",
        "\n",
        "Lists are designed to be changeable (you can add, remove, or update elements), while tuples are meant to stay fixed once created for safety and performance.\n",
        "\n",
        "7. What is the difference between “==” and “is” operators in Python?\n",
        "\n",
        "== checks if values are the same.\n",
        "is checks if two variables point to the same object in memory.\n",
        "\n",
        "8. What are logical operators in Python?\n",
        "\n",
        "Logical operators are used to combine conditions:\n",
        "- and (both must be true)\n",
        "- or (at least one must be true)\n",
        "- not (reverses the result)\n",
        "\n",
        "9. What is type casting in Python?\n",
        "\n",
        "Type casting means converting one data type to another, like converting a string to an integer using int('5').\n",
        "\n",
        "10. What is the difference between implicit and explicit type casting?\n",
        "\n",
        "- Implicit: Python automatically converts the type (e.g., int to float).\n",
        "- Explicit: You manually convert using functions like int(), float(), or str().\n",
        "\n",
        "11. What is the purpose of conditional statements in Python?\n",
        "\n",
        "Conditional statements like if, elif, and else help in making decisions in the code based on certain conditions.\n",
        "\n",
        "12. How does the elif statement work?\n",
        "\n",
        "elif checks another condition if the if condition is false. It avoids writing multiple if statements.\n",
        "\n",
        "13. What is the difference between for and while loops?\n",
        "\n",
        "- for loop is used when you know how many times to loop.\n",
        "- while loop is used when you loop until a condition becomes false.\n",
        "\n",
        "14. Describe a scenario where a while loop is more suitable than a for loop.\n",
        "\n",
        "If you are asking a user to enter a password until it is correct, and you don’t know how many attempts they’ll need, a while loop is better.\n"
      ],
      "metadata": {
        "id": "yKvMWWk5E5jR"
      }
    },
    {
      "cell_type": "markdown",
      "source": [],
      "metadata": {
        "id": "Pg481H1S_DA9"
      }
    },
    {
      "cell_type": "code",
      "source": [
        "# 1 Write a Python program to print \"Hello, World!y\n",
        "print('Hello, World!')"
      ],
      "metadata": {
        "colab": {
          "base_uri": "https://localhost:8080/"
        },
        "id": "vsD1lJLh_T-R",
        "outputId": "e5d54e0b-35cc-42ba-adfe-f3fe9cf634d5"
      },
      "execution_count": 11,
      "outputs": [
        {
          "output_type": "stream",
          "name": "stdout",
          "text": [
            "Hello, World!\n"
          ]
        }
      ]
    },
    {
      "cell_type": "code",
      "source": [
        "# 2 Write a Python program that displays your name and age8\n",
        "name = 'Sadhana'\n",
        "age= 21\n",
        "print(name,age)"
      ],
      "metadata": {
        "colab": {
          "base_uri": "https://localhost:8080/"
        },
        "id": "0Dk96fwS_fIi",
        "outputId": "d301c492-8631-43ef-99b9-4503f4e3a221"
      },
      "execution_count": 12,
      "outputs": [
        {
          "output_type": "stream",
          "name": "stdout",
          "text": [
            "Sadhana 21\n"
          ]
        }
      ]
    },
    {
      "cell_type": "code",
      "source": [
        "# 3 Write code to print all the pre-defined keywords in Python using the keyword library8\n",
        "import keyword\n",
        "keywords =keyword.kwlist\n",
        "print(keywords)\n"
      ],
      "metadata": {
        "colab": {
          "base_uri": "https://localhost:8080/"
        },
        "id": "mBo8noQl_sPg",
        "outputId": "051353df-a3eb-4a08-9a07-45bc87c94920"
      },
      "execution_count": 13,
      "outputs": [
        {
          "output_type": "stream",
          "name": "stdout",
          "text": [
            "['False', 'None', 'True', 'and', 'as', 'assert', 'async', 'await', 'break', 'class', 'continue', 'def', 'del', 'elif', 'else', 'except', 'finally', 'for', 'from', 'global', 'if', 'import', 'in', 'is', 'lambda', 'nonlocal', 'not', 'or', 'pass', 'raise', 'return', 'try', 'while', 'with', 'yield']\n"
          ]
        }
      ]
    },
    {
      "cell_type": "code",
      "source": [
        "# 4 Write a program that checks if a given word is a Python keyword.\n",
        "\n",
        "import keyword\n",
        "keywords =keyword.kwlist\n",
        "word = input('enter the word: ')\n",
        "if word in keywords:\n",
        "  print(f'{word} in keywords')\n",
        "else:\n",
        "  print(f'{word} not in keywords')"
      ],
      "metadata": {
        "id": "Hrl5gH0ADBmF"
      },
      "execution_count": null,
      "outputs": []
    },
    {
      "cell_type": "code",
      "source": [
        "# 5. Create a list and tuple in Python, and demonstrate how attempting to change an element works differently\n",
        "# for each.\n",
        "lst = [1,2.3,'sadhana', 45, [1,2]]\n",
        "print(lst)\n",
        "lst[2]= 'Shrirang' # Sadhana will be changed as Shrirang so the list is mutable\n",
        "print(lst)\n",
        "\n",
        "tpl = (1,2.3,'sadhana', 45, [1,2])\n",
        "print(tpl)\n",
        "# tpl[2]= 'Shrirang' # Sadhana will not be changed as Shrirang it shows the error so tuple is immutable\n",
        "# print(tpl)"
      ],
      "metadata": {
        "id": "-y8_0RHczY6S"
      },
      "execution_count": null,
      "outputs": []
    },
    {
      "cell_type": "code",
      "source": [],
      "metadata": {
        "id": "NmPwHVyZCmgx"
      },
      "execution_count": null,
      "outputs": []
    },
    {
      "cell_type": "code",
      "source": [
        "# prompt: 6. Write a function to demonstrate the behavior of mutable and immutable arguments.\n",
        "L = [2,4,'sadhana',24]\n",
        "print(L)\n",
        "L[2] = 'Shrirang' ## add shrirang on second index position\n",
        "L.append(\"shri\")  ##it adds shri at the end of list ## List is mutable\n",
        "print(L)\n",
        "\n",
        "T = (2,4,'sadhana',24)\n",
        "print(T)\n",
        "T[2]='shri' ## error : 'tuple' object does not support item assignment\n",
        "print(T)  ## Tuple is immutable\n",
        "\n",
        "\n"
      ],
      "metadata": {
        "colab": {
          "base_uri": "https://localhost:8080/",
          "height": 263
        },
        "id": "y1qYdkyL1qtx",
        "outputId": "7b55e5d5-c33a-4880-8e7e-2cde343bc141"
      },
      "execution_count": 6,
      "outputs": [
        {
          "output_type": "stream",
          "name": "stdout",
          "text": [
            "[2, 4, 'sadhana', 24]\n",
            "[2, 4, 'Sahrirang', 24, 'shri']\n",
            "(2, 4, 'sadhana', 24)\n"
          ]
        },
        {
          "output_type": "error",
          "ename": "TypeError",
          "evalue": "'tuple' object does not support item assignment",
          "traceback": [
            "\u001b[0;31m---------------------------------------------------------------------------\u001b[0m",
            "\u001b[0;31mTypeError\u001b[0m                                 Traceback (most recent call last)",
            "\u001b[0;32m/tmp/ipython-input-6-249619161.py\u001b[0m in \u001b[0;36m<cell line: 0>\u001b[0;34m()\u001b[0m\n\u001b[1;32m      8\u001b[0m \u001b[0mT\u001b[0m \u001b[0;34m=\u001b[0m \u001b[0;34m(\u001b[0m\u001b[0;36m2\u001b[0m\u001b[0;34m,\u001b[0m\u001b[0;36m4\u001b[0m\u001b[0;34m,\u001b[0m\u001b[0;34m'sadhana'\u001b[0m\u001b[0;34m,\u001b[0m\u001b[0;36m24\u001b[0m\u001b[0;34m)\u001b[0m\u001b[0;34m\u001b[0m\u001b[0;34m\u001b[0m\u001b[0m\n\u001b[1;32m      9\u001b[0m \u001b[0mprint\u001b[0m\u001b[0;34m(\u001b[0m\u001b[0mT\u001b[0m\u001b[0;34m)\u001b[0m\u001b[0;34m\u001b[0m\u001b[0;34m\u001b[0m\u001b[0m\n\u001b[0;32m---> 10\u001b[0;31m \u001b[0mT\u001b[0m\u001b[0;34m[\u001b[0m\u001b[0;36m2\u001b[0m\u001b[0;34m]\u001b[0m\u001b[0;34m=\u001b[0m\u001b[0;34m'shri'\u001b[0m \u001b[0;31m## error : 'tuple' object does not support item assignment\u001b[0m\u001b[0;34m\u001b[0m\u001b[0;34m\u001b[0m\u001b[0m\n\u001b[0m\u001b[1;32m     11\u001b[0m \u001b[0mprint\u001b[0m\u001b[0;34m(\u001b[0m\u001b[0mT\u001b[0m\u001b[0;34m)\u001b[0m  \u001b[0;31m## Tuple is immutable\u001b[0m\u001b[0;34m\u001b[0m\u001b[0;34m\u001b[0m\u001b[0m\n\u001b[1;32m     12\u001b[0m \u001b[0;34m\u001b[0m\u001b[0m\n",
            "\u001b[0;31mTypeError\u001b[0m: 'tuple' object does not support item assignment"
          ]
        }
      ]
    },
    {
      "cell_type": "code",
      "source": [
        "# 7.  Write a program that performs basic arithmetic operations on two user-input numbers.\n",
        "\n",
        "num1 = int(input('enter number1: '))\n",
        "num2 = int(input('enter number2: '))\n",
        "print(f'Subtraction of two numbers ={num1-num2}')\n",
        "print(f'addition of two numbers ={num1+num2}')\n",
        "print(f'amultiplcation of two numbers ={num1*num2}')\n",
        "print(f'division of two numbers ={num1/num2}')"
      ],
      "metadata": {
        "id": "lEEiM9bx2JuP"
      },
      "execution_count": null,
      "outputs": []
    },
    {
      "cell_type": "code",
      "source": [
        "# 8. Write a program to demonstrate the use of logical operators.\n",
        "a=1\n",
        "b=3\n",
        "print(a and b) # if both are true then only and oprator shows true result with second number else it shows false is 0\n",
        "print(a or b) # # if any one is true then or  oprator shows true result with seconfirsd number else it shows the number which is true and when both are false it shows false result is 0\n",
        "\n",
        "a=0\n",
        "b=3\n",
        "print(a and b)\n",
        "print(a or b)\n",
        "\n",
        "a=6\n",
        "b=0\n",
        "print(a and b)\n",
        "print(a or b)\n",
        "\n",
        "a=0\n",
        "b=0\n",
        "print(a and b)\n",
        "print(a or b)"
      ],
      "metadata": {
        "id": "NqMHWJfv3DyW"
      },
      "execution_count": null,
      "outputs": []
    },
    {
      "cell_type": "code",
      "source": [],
      "metadata": {
        "id": "9TtfGcRl49Qo"
      },
      "execution_count": null,
      "outputs": []
    },
    {
      "cell_type": "code",
      "source": [
        "# 9. Write a Python program to convert user input from string to integer, float, and boolean types.\n",
        "\n",
        "userinput = input('enter the number: ')\n",
        "type(userinput)\n",
        "userinput = int(userinput)\n",
        "type(userinput)\n",
        "\n",
        "\n"
      ],
      "metadata": {
        "id": "MpEooV8T5Gu4"
      },
      "execution_count": null,
      "outputs": []
    },
    {
      "cell_type": "code",
      "source": [
        "# 9. Write a Python program to convert user input from string to integer, float, and boolean types.\n",
        "\n",
        "userinput = input('enter the number: ')\n",
        "print(type(userinput))\n",
        "print(userinput)\n",
        "userinput = int(userinput)\n",
        "print(type(userinput))\n",
        "print(userinput)\n",
        "userinput = float(userinput)\n",
        "print(userinput)\n",
        "print(type(userinput))\n",
        "userinput = bool(userinput)\n",
        "print(userinput)\n",
        "print(type(userinput)) ## we can only chhange str to int or float  if there is only a number in the srting else it shows error\n"
      ],
      "metadata": {
        "id": "4L72Y7yg7m5u"
      },
      "execution_count": null,
      "outputs": []
    },
    {
      "cell_type": "code",
      "source": [
        "# 10. Write code to demonstrate type casting with list elements.\n",
        "lst = [1,2.3,'sadhana', 45, [1,2]]\n",
        "\n",
        "for i in lst:\n",
        "  if type(i)==int:\n",
        "    i = float(i)\n",
        "  elif type(i)==float:\n",
        "    i=int(i)\n",
        "  elif type(i)==list:\n",
        "    i=tuple(i)\n",
        "\n",
        "  print(i)\n",
        "\n",
        "print(lst)\n"
      ],
      "metadata": {
        "id": "NTNBYWOfEMPR"
      },
      "execution_count": null,
      "outputs": []
    },
    {
      "cell_type": "code",
      "source": [
        "# 11. Write a program that checks if a number is positive, negative, or zero.\n",
        "num = int(input('write a number :'))\n",
        "if num>0:\n",
        "  print(f'{num} is positive')\n",
        "elif num<0:\n",
        "  print(f'{num} is Negative')\n",
        "else:\n",
        "  print(f'{num} is 0')"
      ],
      "metadata": {
        "id": "8ZpWknaO_Mgv"
      },
      "execution_count": null,
      "outputs": []
    },
    {
      "cell_type": "code",
      "source": [
        "# 12. Write a for loop to print numbers from 1 to 10.\n",
        "\n",
        "for i in range(1,11):\n",
        "  print(i)\n",
        "\n"
      ],
      "metadata": {
        "id": "6FF9xCqcALVI"
      },
      "execution_count": null,
      "outputs": []
    },
    {
      "cell_type": "code",
      "source": [
        "# 13. Write a Python program to find the sum of all even numbers between 1 and 50.\n",
        "sum =0\n",
        "for i in range(1,51):\n",
        "  if i%2==0:\n",
        "    sum=sum+i\n",
        "print(sum)\n",
        "\n"
      ],
      "metadata": {
        "id": "azoZC-BTAhU8"
      },
      "execution_count": null,
      "outputs": []
    },
    {
      "cell_type": "code",
      "source": [
        "# 14. Write a program to reverse a string using a while loop.\n",
        "\n",
        "string = input('enter the string')\n",
        "reverse_string = ''\n",
        "n = len(string)-1\n",
        "\n",
        "while  n >= 0 :\n",
        "  reverse_string = reverse_string+string[n]\n",
        "  n=n-1\n",
        "\n",
        "print(reverse_string)"
      ],
      "metadata": {
        "colab": {
          "base_uri": "https://localhost:8080/"
        },
        "id": "SQn5M1dKBQ47",
        "outputId": "1b35be52-f8c7-42c8-83c4-a763795d54e4"
      },
      "execution_count": 1,
      "outputs": [
        {
          "output_type": "stream",
          "name": "stdout",
          "text": [
            "enter the stringshri\n",
            "irhs\n"
          ]
        }
      ]
    },
    {
      "cell_type": "code",
      "source": [
        "# 15. Write a Python program to calculate the factorial of a number provided by the user using a while loop.\n",
        "num = int(input('enter the number: '))\n",
        "fact=1\n",
        "for i in range(1,num+1):\n",
        "  fact=fact*i\n",
        "print(f'factorial on {num} is {fact}')"
      ],
      "metadata": {
        "id": "a_nspFGLBU8K"
      },
      "execution_count": null,
      "outputs": []
    }
  ]
}