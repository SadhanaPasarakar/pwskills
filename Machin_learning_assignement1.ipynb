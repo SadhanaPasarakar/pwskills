{
  "nbformat": 4,
  "nbformat_minor": 0,
  "metadata": {
    "colab": {
      "provenance": []
    },
    "kernelspec": {
      "name": "python3",
      "display_name": "Python 3"
    },
    "language_info": {
      "name": "python"
    }
  },
  "cells": [
    {
      "cell_type": "code",
      "execution_count": null,
      "metadata": {
        "id": "WnlF_tx0oKty"
      },
      "outputs": [],
      "source": []
    },
    {
      "cell_type": "markdown",
      "source": [
        "\n",
        "Question 1: Explain the differences between AI, ML, Deep Learning (DL), and Data Science (DS).\n",
        "Answer:\n",
        "•\tArtificial Intelligence (AI): Broad field of computer science focused on creating systems that can mimic human intelligence (reasoning, decision-making, problem-solving). Example: Chatbots, self-driving cars.\n",
        "•\tMachine Learning (ML): Subset of AI where machines learn patterns from data and improve performance over time without explicit programming. Example: Spam email detection.\n",
        "•\tDeep Learning (DL): Subset of ML using neural networks with multiple layers to handle complex problems like image recognition, NLP. Example: Face recognition systems.\n",
        "•\tData Science (DS): Interdisciplinary field that combines statistics, programming, and domain knowledge to analyze and extract insights from data. Example: Sales trend forecasting.\n",
        "________________________________________\n",
        "Question 2: What are the types of machine learning? Describe each with one real-world example.\n",
        "Answer:\n",
        "1.\tSupervised Learning: Trains on labeled data (input-output pairs).\n",
        "o\tExample: Predicting house prices using historical data.\n",
        "2.\tUnsupervised Learning: Trains on unlabeled data to find patterns or clusters.\n",
        "o\tExample: Customer segmentation in marketing.\n",
        "3.\tReinforcement Learning: Agent learns by interacting with environment and receiving rewards or penalties.\n",
        "o\tExample: Training a robot to walk or play chess.\n",
        "________________________________________\n",
        "Question 3: Define overfitting, underfitting, and the bias-variance tradeoff in machine learning.\n",
        "Answer:\n",
        "•\tOverfitting: Model learns training data too well, including noise → performs poorly on unseen data.\n",
        "•\tUnderfitting: Model is too simple → fails to capture underlying trends.\n",
        "•\tBias-Variance Tradeoff: Balance between bias (error due to simplicity) and variance (error due to sensitivity to training data). Goal: achieve low bias + low variance.\n",
        "________________________________________\n",
        "Question 4: What are outliers in a dataset, and list three common techniques for handling them.\n",
        "Answer:\n",
        "•\tOutliers: Data points that deviate significantly from the rest of the dataset.\n",
        "•\tTechniques:\n",
        "1.\tRemoving outliers (if due to errors).\n",
        "2.\tTransforming values (e.g., log transformation).\n",
        "3.\tCapping using IQR or Z-score method (winsorization).\n",
        "________________________________________\n",
        "Question 5: Explain the process of handling missing values and mention one imputation technique for numerical and one for categorical data.\n",
        "Answer:\n",
        "•\tHandling missing values:\n",
        "o\tIdentify missing values.\n",
        "o\tDecide whether to remove rows/columns or impute values.\n",
        "o\tUse imputation techniques depending on data type.\n",
        "•\tNumerical: Mean/median imputation.\n",
        "•\tCategorical: Mode imputation or “Unknown” category.\n"
      ],
      "metadata": {
        "id": "2Tmh1gPFoTcG"
      }
    },
    {
      "cell_type": "code",
      "source": [],
      "metadata": {
        "id": "89MIntpAoVl5"
      },
      "execution_count": null,
      "outputs": []
    },
    {
      "cell_type": "code",
      "source": [
        "# Question 6: Python – Create a synthetic imbalanced dataset and print class distribution.\n",
        "\n",
        "from sklearn.datasets import make_classification\n",
        "import numpy as np\n",
        "import pandas as pd\n",
        "\n",
        "X, y = make_classification(n_samples=1000, n_features=5, n_classes=2,\n",
        "                           weights=[0.9, 0.1], random_state=42)\n",
        "\n",
        "# Class distribution\n",
        "unique, counts = np.unique(y, return_counts=True)\n",
        "dist = dict(zip(unique, counts))\n",
        "print(\"Class Distribution:\", dist)\n"
      ],
      "metadata": {
        "colab": {
          "base_uri": "https://localhost:8080/"
        },
        "id": "mZmxtkxcoWGk",
        "outputId": "3bac564d-ed03-4523-ecae-25029e73ffee"
      },
      "execution_count": 2,
      "outputs": [
        {
          "output_type": "stream",
          "name": "stdout",
          "text": [
            "Class Distribution: {np.int64(0): np.int64(895), np.int64(1): np.int64(105)}\n"
          ]
        }
      ]
    },
    {
      "cell_type": "code",
      "source": [
        "# Question 7: Implement one-hot encoding using pandas for colors.\n",
        "\n",
        "import pandas as pd\n",
        "\n",
        "colors = ['Red', 'Green', 'Blue', 'Green', 'Red']\n",
        "df = pd.DataFrame(colors, columns=['Color'])\n",
        "one_hot = pd.get_dummies(df, columns=['Color'])\n",
        "print(one_hot)\n"
      ],
      "metadata": {
        "colab": {
          "base_uri": "https://localhost:8080/"
        },
        "id": "H_vYmE48pPi4",
        "outputId": "7d71d87d-28af-40de-b920-80d66e447ac7"
      },
      "execution_count": 4,
      "outputs": [
        {
          "output_type": "stream",
          "name": "stdout",
          "text": [
            "   Color_Blue  Color_Green  Color_Red\n",
            "0       False        False       True\n",
            "1       False         True      False\n",
            "2        True        False      False\n",
            "3       False         True      False\n",
            "4       False        False       True\n"
          ]
        }
      ]
    },
    {
      "cell_type": "code",
      "source": [
        "# Question 8: Generate normal distribution, add missing values, impute with mean, and plot histograms.\n",
        "\n",
        "import numpy as np\n",
        "import pandas as pd\n",
        "import matplotlib.pyplot as plt\n",
        "\n",
        "# Generate data\n",
        "data = np.random.normal(loc=50, scale=5, size=1000)\n",
        "\n",
        "# Introduce missing values\n",
        "data[np.random.randint(0, 1000, 50)] = np.nan\n",
        "\n",
        "# Before imputation\n",
        "plt.hist(data[~np.isnan(data)], bins=30)\n",
        "plt.title(\"Before Imputation\")\n",
        "plt.show()\n",
        "\n",
        "# Impute with mean\n",
        "df = pd.DataFrame(data, columns=['Value'])\n",
        "df['Value'].fillna(df['Value'].mean(), inplace=True)\n",
        "\n",
        "# After imputation\n",
        "plt.hist(df['Value'], bins=30)\n",
        "plt.title(\"After Imputation\")\n",
        "plt.show()\n"
      ],
      "metadata": {
        "colab": {
          "base_uri": "https://localhost:8080/",
          "height": 1000
        },
        "id": "nlwTd4hMpVRO",
        "outputId": "2a8e9917-9a4d-4536-ece5-7d372eee9433"
      },
      "execution_count": 6,
      "outputs": [
        {
          "output_type": "display_data",
          "data": {
            "text/plain": [
              "<Figure size 640x480 with 1 Axes>"
            ],
            "image/png": "[encoded data removed]"
          },
          "metadata": {}
        },
        {
          "output_type": "stream",
          "name": "stderr",
          "text": [
            "/tmp/ipython-input-2585884640.py:20: FutureWarning: A value is trying to be set on a copy of a DataFrame or Series through chained assignment using an inplace method.\n",
            "The behavior will change in pandas 3.0. This inplace method will never work because the intermediate object on which we are setting values always behaves as a copy.\n",
            "\n",
            "For example, when doing 'df[col].method(value, inplace=True)', try using 'df.method({col: value}, inplace=True)' or df[col] = df[col].method(value) instead, to perform the operation inplace on the original object.\n",
            "\n",
            "\n",
            "  df['Value'].fillna(df['Value'].mean(), inplace=True)\n"
          ]
        },
        {
          "output_type": "display_data",
          "data": {
            "text/plain": [
              "<Figure size 640x480 with 1 Axes>"
            ],
            "image/png": "[encoded data removed]"
          },
          "metadata": {}
        }
      ]
    },
    {
      "cell_type": "code",
      "source": [
        "# Question 9: Implement Min-Max scaling.\n",
        "from sklearn.preprocessing import MinMaxScaler\n",
        "import numpy as np\n",
        "\n",
        "data = np.array([[2], [5], [10], [15], [20]])\n",
        "scaler = MinMaxScaler()\n",
        "scaled = scaler.fit_transform(data)\n",
        "print(scaled.flatten())\n"
      ],
      "metadata": {
        "colab": {
          "base_uri": "https://localhost:8080/"
        },
        "id": "hUsiiIMKphPN",
        "outputId": "f2b2ffa6-1fe1-499b-c371-817fb2f71d60"
      },
      "execution_count": 9,
      "outputs": [
        {
          "output_type": "stream",
          "name": "stdout",
          "text": [
            "[0.         0.16666667 0.44444444 0.72222222 1.        ]\n"
          ]
        }
      ]
    },
    {
      "cell_type": "markdown",
      "source": [
        "Q10: You are working as a data scientist for a retail company. You receive a customer transaction dataset that contains:\n",
        "\n",
        "Missing ages,\n",
        "\n",
        "Outliers in transaction amount,\n",
        "\n",
        "A highly imbalanced target (fraud vs. non-fraud),\n",
        "\n",
        "Categorical variables like payment method.\n",
        "\n",
        "Explain the step-by-step data preparation plan you’d follow before training a machine learning model. Include how you’d address missing data, outliers, imbalance, and encoding.\n",
        "\n",
        "Answer:\n",
        "\n",
        "Step 1: Handle Missing Data\n",
        "\n",
        "For numerical columns (e.g., Age), replace missing values with mean/median.\n",
        "\n",
        "For categorical columns, replace with the mode (most frequent value).\n",
        "\n",
        "Step 2: Handle Outliers\n",
        "\n",
        "Use the IQR method or z-score to detect and cap/floor extreme values.\n",
        "\n",
        "Step 3: Handle Imbalance\n",
        "\n",
        "Use SMOTE (Synthetic Minority Oversampling Technique) to generate synthetic minority samples.\n",
        "\n",
        "Step 4: Encode Categorical Variables\n",
        "\n",
        "Use one-hot encoding for categorical features like PaymentMethod."
      ],
      "metadata": {
        "id": "MViY7VmNq1TP"
      }
    },
    {
      "cell_type": "code",
      "source": [
        "import pandas as pd\n",
        "import numpy as np\n",
        "from sklearn.impute import SimpleImputer\n",
        "from imblearn.over_sampling import SMOTE\n",
        "\n",
        "# Example dataset\n",
        "data = {\n",
        "    'Age': [25, 30, np.nan, 40, 50, np.nan, 28, 32],\n",
        "    'TransactionAmount': [100, 200, 5000, 300, 150, 120, 7000, 80],\n",
        "    'PaymentMethod': ['Card', 'Cash', 'Card', 'UPI', 'Cash', 'Card', 'Cash', 'UPI'],\n",
        "    'Fraud': [0, 0, 1, 0, 0, 1, 0, 1]   # imbalanced target\n",
        "}\n",
        "\n",
        "df = pd.DataFrame(data)\n",
        "\n",
        "# Step 1: Handle missing values\n",
        "df['Age'] = SimpleImputer(strategy='mean').fit_transform(df[['Age']])\n",
        "\n",
        "# Step 2: Handle outliers (cap using IQR method)\n",
        "Q1 = df['TransactionAmount'].quantile(0.25)\n",
        "Q3 = df['TransactionAmount'].quantile(0.75)\n",
        "IQR = Q3 - Q1\n",
        "lower_limit = Q1 - 1.5 * IQR\n",
        "upper_limit = Q3 + 1.5 * IQR\n",
        "df['TransactionAmount'] = np.where(df['TransactionAmount'] > upper_limit, upper_limit,\n",
        "                                   np.where(df['TransactionAmount'] < lower_limit, lower_limit,\n",
        "                                            df['TransactionAmount']))\n",
        "\n",
        "# Step 3: Handle imbalance using SMOTE\n",
        "X = df.drop('Fraud', axis=1)\n",
        "y = df['Fraud']\n",
        "X_res, y_res = SMOTE(k_neighbors=1).fit_resample(pd.get_dummies(X), y)\n",
        "\n",
        "# Step 4: Encoding already handled by get_dummies\n",
        "print(\"Original Class Distribution:\\n\", y.value_counts())\n",
        "print(\"\\nResampled Class Distribution:\\n\", pd.Series(y_res).value_counts())\n",
        "print(\"\\nFinal Processed Data:\\n\", X_res.head())\n"
      ],
      "metadata": {
        "colab": {
          "base_uri": "https://localhost:8080/"
        },
        "id": "FQlnkxN2q8Ck",
        "outputId": "29ca047f-ada2-4841-a1ea-d534de3a5d1e"
      },
      "execution_count": 11,
      "outputs": [
        {
          "output_type": "stream",
          "name": "stdout",
          "text": [
            "Original Class Distribution:\n",
            " Fraud\n",
            "0    5\n",
            "1    3\n",
            "Name: count, dtype: int64\n",
            "\n",
            "Resampled Class Distribution:\n",
            " Fraud\n",
            "0    5\n",
            "1    5\n",
            "Name: count, dtype: int64\n",
            "\n",
            "Final Processed Data:\n",
            "          Age  TransactionAmount  PaymentMethod_Card  PaymentMethod_Cash  \\\n",
            "0  25.000000              100.0                True               False   \n",
            "1  30.000000              200.0               False                True   \n",
            "2  34.166667             3515.0                True               False   \n",
            "3  40.000000              300.0               False               False   \n",
            "4  50.000000              150.0               False                True   \n",
            "\n",
            "   PaymentMethod_UPI  \n",
            "0              False  \n",
            "1              False  \n",
            "2              False  \n",
            "3               True  \n",
            "4              False  \n"
          ]
        }
      ]
    }
  ]
}